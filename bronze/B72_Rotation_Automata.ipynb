{
 "cells": [
  {
   "cell_type": "markdown",
   "metadata": {},
   "source": [
    "<table>\n",
    "    <tr>\n",
    "        <td  style=\"background-color:#ffffff;\"><a href=\"https://qsoftware.lu.lv/index.php/qworld/\" target=\"_blank\"><img src=\"..\\images\\qworld.jpg\" width=\"70%\" align=\"left\"></a></td>\n",
    "        <td style=\"background-color:#ffffff;\" width=\"*\"></td>\n",
    "        <td  style=\"background-color:#ffffff;vertical-align:text-top;\"><a href=\"https://qsoftware.lu.lv\" target=\"_blank\"><img src=\"..\\images\\logo.jpg\" width=\"25%\" align=\"right\"></a></td>        \n",
    "    </tr>\n",
    "    <tr><td colspan=\"3\" align=\"right\" style=\"color:#777777;background-color:#ffffff;font-size:12px;\">\n",
    "        prepared by <a href=\"http://abu.lu.lv\" target=\"_blank\">Abuzer Yakaryilmaz</a>\n",
    "    </td></tr>\n",
    "    <tr><td colspan=\"3\" align=\"right\" style=\"color:#bbbbbb;background-color:#ffffff;font-size:11px;font-style:italic;\">\n",
    "        This cell contains some macros. If there is a problem with displaying mathematical formulas, please run this cell to load these macros.\n",
    "    </td></tr>\n",
    "</table>\n",
    "$ \\newcommand{\\bra}[1]{\\langle #1|} $\n",
    "$ \\newcommand{\\ket}[1]{|#1\\rangle} $\n",
    "$ \\newcommand{\\braket}[2]{\\langle #1|#2\\rangle} $\n",
    "$ \\newcommand{\\dot}[2]{ #1 \\cdot #2} $\n",
    "$ \\newcommand{\\biginner}[2]{\\left\\langle #1,#2\\right\\rangle} $\n",
    "$ \\newcommand{\\mymatrix}[2]{\\left( \\begin{array}{#1} #2\\end{array} \\right)} $\n",
    "$ \\newcommand{\\myvector}[1]{\\mymatrix{c}{#1}} $\n",
    "$ \\newcommand{\\myrvector}[1]{\\mymatrix{r}{#1}} $\n",
    "$ \\newcommand{\\mypar}[1]{\\left( #1 \\right)} $\n",
    "$ \\newcommand{\\mybigpar}[1]{ \\Big( #1 \\Big)} $\n",
    "$ \\newcommand{\\sqrttwo}{\\frac{1}{\\sqrt{2}}} $\n",
    "$ \\newcommand{\\dsqrttwo}{\\dfrac{1}{\\sqrt{2}}} $\n",
    "$ \\newcommand{\\onehalf}{\\frac{1}{2}} $\n",
    "$ \\newcommand{\\donehalf}{\\dfrac{1}{2}} $\n",
    "$ \\newcommand{\\hadamard}{ \\mymatrix{rr}{ \\sqrttwo & \\sqrttwo \\\\ \\sqrttwo & -\\sqrttwo }} $\n",
    "$ \\newcommand{\\vzero}{\\myvector{1\\\\0}} $\n",
    "$ \\newcommand{\\vone}{\\myvector{0\\\\1}} $\n",
    "$ \\newcommand{\\vhadamardzero}{\\myvector{ \\sqrttwo \\\\  \\sqrttwo } } $\n",
    "$ \\newcommand{\\vhadamardone}{ \\myrvector{ \\sqrttwo \\\\ -\\sqrttwo } } $\n",
    "$ \\newcommand{\\myarray}[2]{ \\begin{array}{#1}#2\\end{array}} $\n",
    "$ \\newcommand{\\X}{ \\mymatrix{cc}{0 & 1 \\\\ 1 & 0}  } $\n",
    "$ \\newcommand{\\Z}{ \\mymatrix{rr}{1 & 0 \\\\ 0 & -1}  } $\n",
    "$ \\newcommand{\\Htwo}{ \\mymatrix{rrrr}{ \\frac{1}{2} & \\frac{1}{2} & \\frac{1}{2} & \\frac{1}{2} \\\\ \\frac{1}{2} & -\\frac{1}{2} & \\frac{1}{2} & -\\frac{1}{2} \\\\ \\frac{1}{2} & \\frac{1}{2} & -\\frac{1}{2} & -\\frac{1}{2} \\\\ \\frac{1}{2} & -\\frac{1}{2} & -\\frac{1}{2} & \\frac{1}{2} } } $\n",
    "$ \\newcommand{\\CNOT}{ \\mymatrix{cccc}{1 & 0 & 0 & 0 \\\\ 0 & 1 & 0 & 0 \\\\ 0 & 0 & 0 & 1 \\\\ 0 & 0 & 1 & 0} } $\n",
    "$ \\newcommand{\\norm}[1]{ \\left\\lVert #1 \\right\\rVert } $"
   ]
  },
  {
   "cell_type": "markdown",
   "metadata": {},
   "source": [
    "<h2>Rotation Automata</h2>"
   ]
  },
  {
   "cell_type": "markdown",
   "metadata": {},
   "source": [
    "A rotation automaton is a decider. It makes decisions on the stream of symbols. We focus on the streams composed by symbol $ a $'s. So, the decisions will be basically about the lengths of streams.\n",
    "\n",
    "We start with rotation automata having single qubits that are initialized to $ \\ket{0} $.\n",
    "\n",
    "We fix a rotation angle, and we apply this rotation for each symbol. \n",
    "\n",
    "After reading the stream, we make a measurement. If the outcome is '0', then we give one answer, and, if the outcome is '1', then we give another answer.  \n",
    "\n",
    "Our aim is to make correct decisions on the streams as good as possible."
   ]
  },
  {
   "cell_type": "markdown",
   "metadata": {},
   "source": [
    "<h3> A trivial promise problem </h3>\n",
    "\n",
    "The number of $a$'s is a multiple of $ 8 $.\n",
    "\n",
    "For each symbol $a$, we apply the rotation with angle $ \\pi/16 $.\n",
    "\n",
    "In this way, we can exactly (zero-error) separate the streams having even multiples of $ 8 $ $a$'s from the streams having odd multiples of $ 8 $ $a$'s."
   ]
  },
  {
   "cell_type": "code",
   "execution_count": null,
   "metadata": {},
   "outputs": [],
   "source": [
    "from qiskit import QuantumRegister, ClassicalRegister, QuantumCircuit, execute, Aer\n",
    "from math import pi\n",
    "\n",
    "# the angle of rotation\n",
    "theta = pi/16\n",
    "\n",
    "# we read streams of length 8, 16, 24, 32, 40, 48, 56, 64\n",
    "for i in [8, 16, 24, 32, 40, 48, 56, 64]:\n",
    "    # quantum circuit with one qubit and one bit\n",
    "    qreg =  QuantumRegister(1) \n",
    "    creg = ClassicalRegister(1) \n",
    "    mycircuit = QuantumCircuit(qreg,creg)\n",
    "    # the stream of length i\n",
    "    for j in range(i):\n",
    "        mycircuit.ry(2*theta,qreg[0]) # apply one rotation for each symbol\n",
    "    # we measure after reading the whole stream\n",
    "    mycircuit.measure(qreg[0],creg[0])\n",
    "    # execute the circuit 100 times\n",
    "    job = execute(mycircuit,Aer.get_backend('qasm_simulator'),shots=100)\n",
    "    counts = job.result().get_counts(mycircuit)\n",
    "    d = i /8\n",
    "    if d % 2 == 0: print(i,\"is even multiple of 8\")\n",
    "    else: print(i,\"is odd multiple of 8\")\n",
    "    print(\"stream of lenght\",i,\"->\",counts)\n",
    "    print()\n",
    "    \n"
   ]
  },
  {
   "cell_type": "markdown",
   "metadata": {},
   "source": [
    "<b> Remark:</b> For the same problem, we need at least 4 classical bits. \n",
    "\n",
    "When changing the parameter $2^3$ to $ 2^k $, we can still use a single qubit. On the other hand, we need at least $ (k+1) $ classical bits."
   ]
  },
  {
   "cell_type": "markdown",
   "metadata": {},
   "source": [
    "<h3>Task 1</h3>\n",
    "\n",
    "Do the same task given above by using different angles.\n",
    "\n",
    "Test at least three different angles. \n",
    "\n",
    "Please modify the code above."
   ]
  },
  {
   "cell_type": "markdown",
   "metadata": {},
   "source": [
    "<h3>Solution</h3>"
   ]
  },
  {
   "cell_type": "markdown",
   "metadata": {},
   "source": [
    "Any odd multiple of $ \\frac{\\pi}{16} $ works: $ i \\frac{\\pi}{16} $, where $ i \\in \\{1,3,5,7,\\ldots\\} $"
   ]
  },
  {
   "cell_type": "markdown",
   "metadata": {},
   "source": [
    "<h3>$ \\mathsf{MOD_p} $</h3>\n",
    "\n",
    "Now, we consider a more general problem called $ \\mathsf{MOD_p} $, where $\\sf p$ is a prime number.\n",
    "\n",
    "We will read a stream of symbols $a$. The number of $a$'s can be arbitrary.\n",
    "\n",
    "For each symbol, we apply a rotation.\n",
    "\n",
    "Our aim is to separate the streams whose length is a multiple of $ \\sf p $ from the other streams. \n",
    "\n",
    "<b>We design a good decider step by step.</b>\n",
    "\n",
    "<i>Remark that each $ p $ defines a different problem.</i>"
   ]
  },
  {
   "cell_type": "markdown",
   "metadata": {},
   "source": [
    "<h3>Task 2</h3>\n",
    "\n",
    "Let $ \\mathsf{p} = 11 $.\n",
    "\n",
    "Determine an angle of rotation such that when the length of stream is a multiple of $ \\sf p $, then we observe only state $ 0 $, and we can also observe state $ 1 $, otherwise.\n",
    "\n",
    "Test your rotation by using a quantum circuit. Execute the circuit for all streams of lengths from 1 to 11."
   ]
  },
  {
   "cell_type": "markdown",
   "metadata": {},
   "source": [
    "<h3>Solution</h3>"
   ]
  },
  {
   "cell_type": "markdown",
   "metadata": {},
   "source": [
    "We can pick any angle $ k\\frac{2\\pi}{11} $ for $ k \\in \\{1,\\ldots,10\\} $."
   ]
  },
  {
   "cell_type": "code",
   "execution_count": 1,
   "metadata": {},
   "outputs": [
    {
     "name": "stdout",
     "output_type": "stream",
     "text": [
      "the picked angle is 7 times of 2pi/11\n",
      "\n",
      "stream of lenght 1 -> {'1': 566, '0': 434}\n",
      "stream of lenght 2 -> {'1': 985, '0': 15}\n",
      "stream of lenght 3 -> {'1': 281, '0': 719}\n",
      "stream of lenght 4 -> {'1': 88, '0': 912}\n",
      "stream of lenght 5 -> {'1': 839, '0': 161}\n",
      "stream of lenght 6 -> {'1': 819, '0': 181}\n",
      "stream of lenght 7 -> {'1': 95, '0': 905}\n",
      "stream of lenght 8 -> {'1': 292, '0': 708}\n",
      "stream of lenght 9 -> {'1': 971, '0': 29}\n",
      "stream of lenght 10 -> {'1': 554, '0': 446}\n",
      "stream of lenght 11 -> {'0': 1000}\n"
     ]
    }
   ],
   "source": [
    "from qiskit import QuantumRegister, ClassicalRegister, QuantumCircuit, execute, Aer\n",
    "from math import pi\n",
    "from random import randrange\n",
    "\n",
    "# the angle of rotation\n",
    "r = randrange(1,11)\n",
    "print(\"the picked angle is\",r,\"times of 2pi/11\")\n",
    "print()  \n",
    "theta = r*2*pi/11\n",
    "\n",
    "# we read streams of length from 1 to 11\n",
    "for i in range(1,12):\n",
    "    # quantum circuit with one qubit and one bit\n",
    "    qreg =  QuantumRegister(1) \n",
    "    creg = ClassicalRegister(1) \n",
    "    mycircuit = QuantumCircuit(qreg,creg)\n",
    "    # the stream of length i\n",
    "    for j in range(i):\n",
    "        mycircuit.ry(2*theta,qreg[0]) # apply one rotation for each symbol\n",
    "    # we measure after reading the whole stream\n",
    "    mycircuit.measure(qreg[0],creg[0])\n",
    "    # execute the circuit 1000 times\n",
    "    job = execute(mycircuit,Aer.get_backend('qasm_simulator'),shots=1000)\n",
    "    counts = job.result().get_counts(mycircuit)\n",
    "    print(\"stream of lenght\",i,\"->\",counts)"
   ]
  },
  {
   "cell_type": "markdown",
   "metadata": {},
   "source": [
    "<h3> Observation</h3>\n",
    "\n",
    "For some streams of lengths from 1 to 10, we observe state $\\ket{1}$ only for a few times.\n",
    "\n",
    "This is definitely not desirable if we wish to distinguish the lengths that are multiple of $\\sf p$ from the rest with high probability."
   ]
  },
  {
   "cell_type": "markdown",
   "metadata": {},
   "source": [
    "<h3>Task 3</h3>\n",
    "\n",
    "List down 10 possible different angles for Task 2, where each angle should be between 0 and $2\\pi$."
   ]
  },
  {
   "cell_type": "markdown",
   "metadata": {},
   "source": [
    "<h3>Solution</h3>"
   ]
  },
  {
   "cell_type": "markdown",
   "metadata": {},
   "source": [
    "Any angle $ k\\frac{2\\pi}{11} $ for $ k \\in \\{1,\\ldots,10\\} $."
   ]
  },
  {
   "cell_type": "markdown",
   "metadata": {},
   "source": [
    "<h3>Task 4</h3>\n",
    "\n",
    "For each stream of length from 1 to 10, determine the best angle of rotation by using your circuit."
   ]
  },
  {
   "cell_type": "markdown",
   "metadata": {},
   "source": [
    "<h3>Solution</h3>"
   ]
  },
  {
   "cell_type": "code",
   "execution_count": 2,
   "metadata": {},
   "outputs": [
    {
     "name": "stdout",
     "output_type": "stream",
     "text": [
      "length 1-> 1:2937  2:8342  3:9809  4:5679  5:813  6:798  7:5718  8:9801  9:8285  10:2939  \n",
      "for length 1 , the best k is 3\n",
      "\n",
      "length 2-> 1:8277  2:5744  3:793  4:9805  5:2941  6:2926  7:9805  8:821  9:5671  10:8271  \n",
      "for length 2 , the best k is 4\n",
      "\n",
      "length 3-> 1:9801  2:765  3:8272  4:2948  5:5699  6:5766  7:2953  8:8216  9:770  10:9771  \n",
      "for length 3 , the best k is 1\n",
      "\n",
      "length 4-> 1:5621  2:9794  3:2816  4:776  5:8228  6:8316  7:831  8:2919  9:9790  10:5785  \n",
      "for length 4 , the best k is 2\n",
      "\n",
      "length 5-> 1:776  2:2945  3:5765  4:8298  5:9797  6:9791  7:8301  8:5725  9:2896  10:800  \n",
      "for length 5 , the best k is 5\n",
      "\n",
      "length 6-> 1:724  2:2915  3:5645  4:8277  5:9791  6:9817  7:8325  8:5706  9:2889  10:798  \n",
      "for length 6 , the best k is 6\n",
      "\n",
      "length 7-> 1:5709  2:9778  3:2954  4:815  5:8207  6:8281  7:767  8:2883  9:9773  10:5679  \n",
      "for length 7 , the best k is 2\n",
      "\n",
      "length 8-> 1:9797  2:790  3:8234  4:2817  5:5631  6:5617  7:2999  8:8256  9:786  10:9792  \n",
      "for length 8 , the best k is 1\n",
      "\n",
      "length 9-> 1:8279  2:5704  3:787  4:9797  5:2950  6:2889  7:9820  8:779  9:5684  10:8287  \n",
      "for length 9 , the best k is 7\n",
      "\n",
      "length 10-> 1:2936  2:8248  3:9798  4:5679  5:768  6:806  7:5721  8:9772  9:8249  10:2904  \n",
      "for length 10 , the best k is 3\n",
      "\n"
     ]
    }
   ],
   "source": [
    "from qiskit import QuantumRegister, ClassicalRegister, QuantumCircuit, execute, Aer\n",
    "from math import pi\n",
    "from random import randrange\n",
    "\n",
    "# for each stream of length from 1 to 10\n",
    "for i in range(1,11):\n",
    "    # we try each angle of the form k*2*pi/11 for k=1,...,10\n",
    "    # we try to find the best k for which we observe 1 the most\n",
    "    number_of_one_state = 0\n",
    "    best_k = 1\n",
    "    all_outcomes_for_i = \"length \"+str(i)+\"-> \"\n",
    "    for k in range(1,11):\n",
    "        theta = k*2*pi/11\n",
    "        # quantum circuit with one qubit and one bit\n",
    "        qreg =  QuantumRegister(1) \n",
    "        creg = ClassicalRegister(1) \n",
    "        mycircuit = QuantumCircuit(qreg,creg)\n",
    "        # the stream of length i\n",
    "        for j in range(i):\n",
    "            mycircuit.ry(2*theta,qreg[0]) # apply one rotation for each symbol\n",
    "            # we measure after reading the whole stream\n",
    "        mycircuit.measure(qreg[0],creg[0])\n",
    "        # execute the circuit 10000 times\n",
    "        job = execute(mycircuit,Aer.get_backend('qasm_simulator'),shots=10000)\n",
    "        counts = job.result().get_counts(mycircuit)\n",
    "        all_outcomes_for_i = all_outcomes_for_i + str(k)+ \":\" + str(counts['1']) + \"  \"\n",
    "        if int(counts['1']) > number_of_one_state:\n",
    "            number_of_one_state = counts['1']\n",
    "            best_k = k\n",
    "    print(all_outcomes_for_i)\n",
    "    print(\"for length\",i,\", the best k is\",best_k)\n",
    "    print()"
   ]
  },
  {
   "cell_type": "markdown",
   "metadata": {},
   "source": [
    "<h3> Random strategy for $ \\mathsf{MOD_p} $</h3>"
   ]
  },
  {
   "cell_type": "markdown",
   "metadata": {},
   "source": [
    "For different length of streams that are not multiple of $\\sf p$, different angles $ \\big( k\\frac{2\\pi}{p} \\big) $ work better.\n",
    "\n",
    "We can use more than one rotation automaton, each of which uses different $ k $ for its angle of rotation. \n",
    "\n",
    "In this way, we can get better results, i.e., we can distinguish the lengths not multiple of $\\sf p$ with better probabilities, i.e., we observe state $ \\ket{1} $ more than half times for example."
   ]
  },
  {
   "cell_type": "markdown",
   "metadata": {},
   "source": [
    "<h3>Task 5</h3>\n",
    "\n",
    "Let $ \\mathsf{p} = 31 $.\n",
    "\n",
    "Create a circuit with three quantum bits and three classical bits.\n",
    "\n",
    "Rotate the qubits with angles $ 3\\cdot \\frac{2\\pi}{31} $, $ 7\\cdot\\frac{2\\pi}{31} $, and $ 11\\cdot\\frac{2\\pi}{31} $, respectively.\n",
    "\n",
    "Execute your circuit for all streams of lengths from 1 to 30. Check whether the number of state $ \\ket{000} $ is less than half or not.\n",
    "\n",
    "<i>Note that whether a key is in dictionary or not can be checked as follows:</i>\n",
    "\n",
    "    if '000' in counts.keys():\n",
    "        c = counts['000']\n",
    "    else:\n",
    "        c = 0"
   ]
  },
  {
   "cell_type": "markdown",
   "metadata": {},
   "source": [
    "<h3>Solution</h3>"
   ]
  },
  {
   "cell_type": "code",
   "execution_count": 3,
   "metadata": {},
   "outputs": [
    {
     "name": "stdout",
     "output_type": "stream",
     "text": [
      "{'001': 3, '101': 4, '000': 7, '110': 400, '111': 211, '010': 260, '100': 7, '011': 108}\n",
      "000 is observed 7 times out of 1000\n",
      "the ratio of 000 is  0.7 %\n",
      "\n",
      "{'001': 43, '101': 739, '000': 7, '100': 98, '110': 14, '011': 3, '111': 96}\n",
      "000 is observed 7 times out of 1000\n",
      "the ratio of 000 is  0.7 %\n",
      "\n",
      "{'001': 156, '101': 32, '000': 12, '110': 7, '011': 642, '111': 112, '010': 39}\n",
      "000 is observed 12 times out of 1000\n",
      "the ratio of 000 is  1.2 %\n",
      "\n",
      "{'001': 225, '101': 65, '000': 326, '110': 53, '111': 27, '010': 131, '100': 70, '011': 103}\n",
      "000 is observed 326 times out of 1000\n",
      "the ratio of 000 is  32.6 %\n",
      "\n",
      "{'001': 1, '101': 1, '000': 9, '100': 463, '110': 502, '111': 7, '010': 17}\n",
      "000 is observed 9 times out of 1000\n",
      "the ratio of 000 is  0.9 %\n",
      "\n",
      "{'001': 51, '101': 50, '000': 143, '110': 231, '111': 63, '010': 227, '100': 163, '011': 72}\n",
      "000 is observed 143 times out of 1000\n",
      "the ratio of 000 is  14.3 %\n",
      "\n",
      "{'001': 588, '101': 7, '000': 150, '110': 1, '011': 202, '111': 1, '010': 51}\n",
      "000 is observed 150 times out of 1000\n",
      "the ratio of 000 is  15.0 %\n",
      "\n",
      "{'001': 34, '101': 69, '100': 1, '110': 12, '011': 243, '111': 635, '010': 6}\n",
      "000 is observed 0 times out of 1000\n",
      "the ratio of 000 is  0.0 %\n",
      "\n",
      "{'001': 57, '101': 424, '000': 63, '110': 16, '111': 24, '010': 1, '100': 414, '011': 1}\n",
      "000 is observed 63 times out of 1000\n",
      "the ratio of 000 is  6.3 %\n",
      "\n",
      "{'000': 2, '110': 83, '011': 33, '111': 4, '010': 878}\n",
      "000 is observed 2 times out of 1000\n",
      "the ratio of 000 is  0.2 %\n",
      "\n",
      "{'001': 109, '101': 55, '000': 551, '100': 274, '110': 2, '011': 1, '010': 8}\n",
      "000 is observed 551 times out of 1000\n",
      "the ratio of 000 is  55.1 %\n",
      "\n",
      "{'110': 246, '101': 38, '111': 695, '100': 21}\n",
      "000 is observed 0 times out of 1000\n",
      "the ratio of 000 is  0.0 %\n",
      "\n",
      "{'001': 477, '101': 380, '000': 1, '011': 87, '111': 55}\n",
      "000 is observed 1 times out of 1000\n",
      "the ratio of 000 is  0.1 %\n",
      "\n",
      "{'001': 170, '101': 5, '000': 103, '110': 11, '111': 17, '010': 261, '100': 8, '011': 425}\n",
      "000 is observed 103 times out of 1000\n",
      "the ratio of 000 is  10.3 %\n",
      "\n",
      "{'001': 11, '101': 40, '000': 106, '110': 311, '111': 28, '010': 78, '100': 417, '011': 9}\n",
      "000 is observed 106 times out of 1000\n",
      "the ratio of 000 is  10.6 %\n",
      "\n",
      "{'001': 6, '101': 45, '000': 105, '110': 353, '111': 27, '010': 69, '100': 391, '011': 4}\n",
      "000 is observed 105 times out of 1000\n",
      "the ratio of 000 is  10.5 %\n",
      "\n",
      "{'001': 187, '101': 5, '000': 111, '110': 8, '111': 17, '010': 270, '100': 2, '011': 400}\n",
      "000 is observed 111 times out of 1000\n",
      "the ratio of 000 is  11.1 %\n",
      "\n",
      "{'001': 450, '101': 404, '000': 1, '011': 82, '111': 63}\n",
      "000 is observed 1 times out of 1000\n",
      "the ratio of 000 is  0.1 %\n",
      "\n",
      "{'110': 263, '101': 52, '111': 670, '100': 15}\n",
      "000 is observed 0 times out of 1000\n",
      "the ratio of 000 is  0.0 %\n",
      "\n",
      "{'001': 117, '101': 58, '000': 567, '110': 1, '111': 2, '010': 8, '100': 246, '011': 1}\n",
      "000 is observed 567 times out of 1000\n",
      "the ratio of 000 is  56.7 %\n",
      "\n",
      "{'000': 3, '110': 89, '011': 39, '111': 5, '010': 864}\n",
      "000 is observed 3 times out of 1000\n",
      "the ratio of 000 is  0.3 %\n",
      "\n",
      "{'001': 63, '101': 447, '000': 49, '110': 17, '111': 18, '010': 2, '100': 403, '011': 1}\n",
      "000 is observed 49 times out of 1000\n",
      "the ratio of 000 is  4.9 %\n",
      "\n",
      "{'001': 32, '101': 80, '110': 11, '011': 258, '111': 613, '010': 6}\n",
      "000 is observed 0 times out of 1000\n",
      "the ratio of 000 is  0.0 %\n",
      "\n",
      "{'001': 631, '101': 13, '000': 134, '100': 2, '011': 172, '111': 3, '010': 45}\n",
      "000 is observed 134 times out of 1000\n",
      "the ratio of 000 is  13.4 %\n",
      "\n",
      "{'001': 47, '101': 50, '000': 158, '110': 247, '111': 78, '010': 217, '100': 140, '011': 63}\n",
      "000 is observed 158 times out of 1000\n",
      "the ratio of 000 is  15.8 %\n",
      "\n",
      "{'101': 4, '000': 6, '100': 453, '110': 515, '111': 4, '010': 18}\n",
      "000 is observed 6 times out of 1000\n",
      "the ratio of 000 is  0.6 %\n",
      "\n",
      "{'001': 199, '101': 58, '000': 330, '110': 39, '111': 37, '010': 143, '100': 83, '011': 111}\n",
      "000 is observed 330 times out of 1000\n",
      "the ratio of 000 is  33.0 %\n",
      "\n",
      "{'001': 142, '101': 33, '000': 10, '110': 8, '111': 120, '010': 33, '100': 4, '011': 650}\n",
      "000 is observed 10 times out of 1000\n",
      "the ratio of 000 is  1.0 %\n",
      "\n",
      "{'001': 58, '101': 746, '000': 7, '110': 12, '111': 70, '010': 1, '100': 99, '011': 7}\n",
      "000 is observed 7 times out of 1000\n",
      "the ratio of 000 is  0.7 %\n",
      "\n",
      "{'001': 2, '101': 4, '000': 3, '110': 398, '111': 209, '010': 247, '100': 14, '011': 123}\n",
      "000 is observed 3 times out of 1000\n",
      "the ratio of 000 is  0.3 %\n",
      "\n"
     ]
    }
   ],
   "source": [
    "from qiskit import QuantumRegister, ClassicalRegister, QuantumCircuit, execute, Aer\n",
    "from math import pi\n",
    "from random import randrange\n",
    "\n",
    "# the angles of rotations\n",
    "theta1 = 3*2*pi/31\n",
    "theta2 = 7*2*pi/31\n",
    "theta3 = 11*2*pi/31\n",
    "\n",
    "# we read streams of length from 1 to 30\n",
    "for i in range(1,31):\n",
    "    # quantum circuit with three qubits and three bits\n",
    "    qreg =  QuantumRegister(3) \n",
    "    creg = ClassicalRegister(3) \n",
    "    mycircuit = QuantumCircuit(qreg,creg)\n",
    "    # the stream of length i\n",
    "    for j in range(i):\n",
    "        # apply rotations for each symbol\n",
    "        mycircuit.ry(2*theta1,qreg[0]) \n",
    "        mycircuit.ry(2*theta2,qreg[1]) \n",
    "        mycircuit.ry(2*theta3,qreg[2]) \n",
    "    # we measure after reading the whole stream\n",
    "    mycircuit.measure(qreg,creg)\n",
    "    # execute the circuit N times\n",
    "    N = 1000\n",
    "    job = execute(mycircuit,Aer.get_backend('qasm_simulator'),shots=N)\n",
    "    counts = job.result().get_counts(mycircuit)\n",
    "    print(counts)\n",
    "    if '000' in counts.keys():\n",
    "        c = counts['000']\n",
    "    else:\n",
    "        c = 0\n",
    "    print('000 is observed',c,'times out of',N)\n",
    "    percentange = round(c/N*100,1)\n",
    "    print(\"the ratio of 000 is \",percentange,\"%\")\n",
    "    print()"
   ]
  },
  {
   "cell_type": "markdown",
   "metadata": {},
   "source": [
    "<h3>Task 6</h3>\n",
    "\n",
    "Let $ \\mathsf{p} = 31 $.\n",
    "\n",
    "Create a circuit with three quantum bits and three classical bits.\n",
    "\n",
    "Rotate the qubits with random angles of the form $ k\\frac{2\\pi}{31} $, where $ k \n",
    "\\in \\{1,\\ldots,30\\}.$\n",
    "\n",
    "Execute your circuit for all streams of lengths from 1 to 30.\n",
    "\n",
    "Calculate the maximum percentage of observing the state $ \\ket{000} $.\n",
    "\n",
    "Repeat this task for a few times.\n",
    "\n",
    "<i>Note that whether a key is in dictionary or not can be checked as follows:</i>\n",
    "\n",
    "    if '000' in counts.keys():\n",
    "        c = counts['000']\n",
    "    else:\n",
    "        c = 0"
   ]
  },
  {
   "cell_type": "code",
   "execution_count": 4,
   "metadata": {},
   "outputs": [
    {
     "name": "stdout",
     "output_type": "stream",
     "text": [
      "k1 = 16 k2 = 24 k3 = 10\n",
      "\n",
      "max percentage is 49.6\n"
     ]
    }
   ],
   "source": [
    "from qiskit import QuantumRegister, ClassicalRegister, QuantumCircuit, execute, Aer\n",
    "from math import pi\n",
    "from random import randrange\n",
    "\n",
    "# randomly picked angles of rotations \n",
    "k1 = randrange(1,31)\n",
    "theta1 = k1*2*pi/31\n",
    "k2 = randrange(1,31)\n",
    "theta2 = k2*2*pi/31\n",
    "k3 = randrange(1,31)\n",
    "theta3 = k3*2*pi/31\n",
    "print(\"k1 =\",k1,\"k2 =\",k2,\"k3 =\",k3)\n",
    "print()\n",
    "\n",
    "max_percentange = 0\n",
    "# we read streams of length from 1 to 30\n",
    "for i in range(1,31):\n",
    "    k1 = randrange(1,31)\n",
    "    theta1 = k1*2*pi/31\n",
    "    k2 = randrange(1,31)\n",
    "    theta2 = k2*2*pi/31\n",
    "    k3 = randrange(1,31)\n",
    "    theta3 = k3*2*pi/31\n",
    "    # quantum circuit with three qubits and three bits\n",
    "    qreg =  QuantumRegister(3) \n",
    "    creg = ClassicalRegister(3) \n",
    "    mycircuit = QuantumCircuit(qreg,creg)\n",
    "    # the stream of length i\n",
    "    for j in range(i):\n",
    "        # apply rotations for each symbol\n",
    "        mycircuit.ry(2*theta1,qreg[0]) \n",
    "        mycircuit.ry(2*theta2,qreg[1]) \n",
    "        mycircuit.ry(2*theta3,qreg[2]) \n",
    "    # we measure after reading the whole stream\n",
    "    mycircuit.measure(qreg,creg)\n",
    "    # execute the circuit N times\n",
    "    N = 1000\n",
    "    job = execute(mycircuit,Aer.get_backend('qasm_simulator'),shots=N)\n",
    "    counts = job.result().get_counts(mycircuit)\n",
    "    # print(counts)\n",
    "    if '000' in counts.keys():\n",
    "        c = counts['000']\n",
    "    else:\n",
    "        c = 0\n",
    "    # print('000 is observed',c,'times out of',N)\n",
    "    percentange = round(c/N*100,1)\n",
    "    if max_percentange < percentange: max_percentange = percentange\n",
    "    # print(\"the ration of 000 is \",percentange,\"%\")\n",
    "    # print()\n",
    "print(\"max percentage is\",max_percentange)"
   ]
  },
  {
   "cell_type": "markdown",
   "metadata": {},
   "source": [
    "<h3>Task 7</h3>\n",
    "\n",
    "Repeat Task 6 by using four and five qubits."
   ]
  },
  {
   "cell_type": "code",
   "execution_count": 5,
   "metadata": {},
   "outputs": [
    {
     "name": "stdout",
     "output_type": "stream",
     "text": [
      "k 0 = 13\n",
      "k 1 = 9\n",
      "k 2 = 23\n",
      "k 3 = 21\n",
      "zeros =  0000\n",
      "\n",
      "max percentage is 29.8\n"
     ]
    }
   ],
   "source": [
    "from qiskit import QuantumRegister, ClassicalRegister, QuantumCircuit, execute, Aer\n",
    "from math import pi\n",
    "from random import randrange\n",
    "\n",
    "number_of_qubits = 4\n",
    "#number_of_qubits = 5\n",
    "# randomly picked angles of rotations \n",
    "theta = []\n",
    "for i in range(number_of_qubits):\n",
    "    k =  randrange(1,31)\n",
    "    print(\"k\",str(i),\"=\",k)\n",
    "    theta += [k*2*pi/31]\n",
    "# print(theta)\n",
    "\n",
    "# we count the number of zeros\n",
    "zeros = ''\n",
    "for i in range(number_of_qubits):\n",
    "    zeros = zeros + '0'\n",
    "print(\"zeros = \",zeros)\n",
    "print()\n",
    "\n",
    "max_percentange = 0\n",
    "# we read streams of length from 1 to 30\n",
    "for i in range(1,31):\n",
    "    # quantum circuit with qubits and bits\n",
    "    qreg =  QuantumRegister(number_of_qubits) \n",
    "    creg = ClassicalRegister(number_of_qubits) \n",
    "    mycircuit = QuantumCircuit(qreg,creg)\n",
    "    # the stream of length i\n",
    "    for j in range(i):\n",
    "        # apply rotations for each symbol\n",
    "        for k in range(number_of_qubits):\n",
    "            mycircuit.ry(2*theta[k],qreg[k]) \n",
    "    # we measure after reading the whole stream\n",
    "    mycircuit.measure(qreg,creg)\n",
    "    # execute the circuit N times\n",
    "    N = 1000\n",
    "    job = execute(mycircuit,Aer.get_backend('qasm_simulator'),shots=N)\n",
    "    counts = job.result().get_counts(mycircuit)\n",
    "    # print(counts)\n",
    "    if zeros in counts.keys():\n",
    "        c = counts[zeros]\n",
    "    else:\n",
    "        c = 0\n",
    "    # print('000 is observed',c,'times out of',N)\n",
    "    percentange = round(c/N*100,1)\n",
    "    if max_percentange < percentange: max_percentange = percentange\n",
    "    # print(\"the ration of 000 is \",percentange,\"%\")\n",
    "    # print()\n",
    "print(\"max percentage is\",max_percentange)"
   ]
  },
  {
   "cell_type": "markdown",
   "metadata": {},
   "source": [
    "<h3>Remarks</h3>\n",
    "\n",
    "Problem $\\sf MOD_p$ can be classically solved by using no less than $\\sf p$ states.\n",
    "\n",
    "As we have observed, the same problem can be solved by using a few quantum states in some cases.\n",
    "\n",
    "In fact, the above given random strategy can be implemented more state efficiently (we discuss the basics of this technique in the next notebook) so that $ \\log \\mathsf{p} $ quantum states is enough to solve the problem with high probability.\n",
    "\n",
    "Thus, we need at least logarithmic number of classical bits. On the other hand, we can use double logarithmic quantum bits. This is another exponential advantage of quantum computation.  \n",
    "\n",
    "<i> One implementation issue for the quantum algorithm is to implement more and more precise rotations, i.e., implementing the rotation with angle $ \\frac{2\\pi}{p} $ may not be possible when $ p $ gets bigger and bigger.\n",
    "\n",
    "Besides, a long sequence of rotations may require some error corrections, and each error correction solution can use new qubits.\n",
    "</i>"
   ]
  },
  {
   "cell_type": "code",
   "execution_count": null,
   "metadata": {},
   "outputs": [],
   "source": []
  }
 ],
 "metadata": {
  "kernelspec": {
   "display_name": "Python 3",
   "language": "python",
   "name": "python3"
  },
  "language_info": {
   "codemirror_mode": {
    "name": "ipython",
    "version": 3
   },
   "file_extension": ".py",
   "mimetype": "text/x-python",
   "name": "python",
   "nbconvert_exporter": "python",
   "pygments_lexer": "ipython3",
   "version": "3.7.1"
  }
 },
 "nbformat": 4,
 "nbformat_minor": 2
}
