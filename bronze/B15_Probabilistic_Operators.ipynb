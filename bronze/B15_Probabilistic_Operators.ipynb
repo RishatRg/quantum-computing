{
 "cells": [
  {
   "cell_type": "markdown",
   "metadata": {},
   "source": [
    "<table>\n",
    "    <tr>\n",
    "        <td  style=\"background-color:#ffffff;\"><a href=\"https://qsoftware.lu.lv/index.php/qworld/\" target=\"_blank\"><img src=\"..\\images\\qworld.jpg\" width=\"70%\" align=\"left\"></a></td>\n",
    "        <td style=\"background-color:#ffffff;\" width=\"*\"></td>\n",
    "        <td  style=\"background-color:#ffffff;vertical-align:text-top;\"><a href=\"https://qsoftware.lu.lv\" target=\"_blank\"><img src=\"..\\images\\logo.jpg\" width=\"25%\" align=\"right\"></a></td>        \n",
    "    </tr>\n",
    "    <tr><td colspan=\"3\" align=\"right\" style=\"color:#777777;background-color:#ffffff;font-size:12px;\">\n",
    "        prepared by <a href=\"http://abu.lu.lv\" target=\"_blank\">Abuzer Yakaryilmaz</a>\n",
    "    </td></tr>\n",
    "    <tr><td colspan=\"3\" align=\"right\" style=\"color:#bbbbbb;background-color:#ffffff;font-size:11px;font-style:italic;\">\n",
    "        This cell contains some macros. If there is a problem with displaying mathematical formulas, please run this cell to load these macros.\n",
    "    </td></tr>\n",
    "</table>\n",
    "$ \\newcommand{\\bra}[1]{\\langle #1|} $\n",
    "$ \\newcommand{\\ket}[1]{|#1\\rangle} $\n",
    "$ \\newcommand{\\braket}[2]{\\langle #1|#2\\rangle} $\n",
    "$ \\newcommand{\\dot}[2]{ #1 \\cdot #2} $\n",
    "$ \\newcommand{\\biginner}[2]{\\left\\langle #1,#2\\right\\rangle} $\n",
    "$ \\newcommand{\\mymatrix}[2]{\\left( \\begin{array}{#1} #2\\end{array} \\right)} $\n",
    "$ \\newcommand{\\myvector}[1]{\\mymatrix{c}{#1}} $\n",
    "$ \\newcommand{\\myrvector}[1]{\\mymatrix{r}{#1}} $\n",
    "$ \\newcommand{\\mypar}[1]{\\left( #1 \\right)} $\n",
    "$ \\newcommand{\\mybigpar}[1]{ \\Big( #1 \\Big)} $\n",
    "$ \\newcommand{\\sqrttwo}{\\frac{1}{\\sqrt{2}}} $\n",
    "$ \\newcommand{\\dsqrttwo}{\\dfrac{1}{\\sqrt{2}}} $\n",
    "$ \\newcommand{\\onehalf}{\\frac{1}{2}} $\n",
    "$ \\newcommand{\\donehalf}{\\dfrac{1}{2}} $\n",
    "$ \\newcommand{\\hadamard}{ \\mymatrix{rr}{ \\sqrttwo & \\sqrttwo \\\\ \\sqrttwo & -\\sqrttwo }} $\n",
    "$ \\newcommand{\\vzero}{\\myvector{1\\\\0}} $\n",
    "$ \\newcommand{\\vone}{\\myvector{0\\\\1}} $\n",
    "$ \\newcommand{\\vhadamardzero}{\\myvector{ \\sqrttwo \\\\  \\sqrttwo } } $\n",
    "$ \\newcommand{\\vhadamardone}{ \\myrvector{ \\sqrttwo \\\\ -\\sqrttwo } } $\n",
    "$ \\newcommand{\\myarray}[2]{ \\begin{array}{#1}#2\\end{array}} $\n",
    "$ \\newcommand{\\X}{ \\mymatrix{cc}{0 & 1 \\\\ 1 & 0}  } $\n",
    "$ \\newcommand{\\Z}{ \\mymatrix{rr}{1 & 0 \\\\ 0 & -1}  } $\n",
    "$ \\newcommand{\\Htwo}{ \\mymatrix{rrrr}{ \\frac{1}{2} & \\frac{1}{2} & \\frac{1}{2} & \\frac{1}{2} \\\\ \\frac{1}{2} & -\\frac{1}{2} & \\frac{1}{2} & -\\frac{1}{2} \\\\ \\frac{1}{2} & \\frac{1}{2} & -\\frac{1}{2} & -\\frac{1}{2} \\\\ \\frac{1}{2} & -\\frac{1}{2} & -\\frac{1}{2} & \\frac{1}{2} } } $\n",
    "$ \\newcommand{\\CNOT}{ \\mymatrix{cccc}{1 & 0 & 0 & 0 \\\\ 0 & 1 & 0 & 0 \\\\ 0 & 0 & 0 & 1 \\\\ 0 & 0 & 1 & 0} } $\n",
    "$ \\newcommand{\\norm}[1]{ \\left\\lVert #1 \\right\\rVert } $"
   ]
  },
  {
   "cell_type": "markdown",
   "metadata": {},
   "source": [
    "<h2> Probabilistic Operators</h2>\n",
    "\n",
    "Remember Asja's biased coins, and her coin-flipping protocol.\n",
    "\n",
    "$\n",
    "GameCoins = \\begin{array}{c|cc} & \\mathbf{Head} & \\mathbf{Tail} \\\\ \\hline \\mathbf{Head} & 0.6 & 0.3\\\\  \\mathbf{Tail} & 0.4 & 0.7  \\end{array} \\equiv \\begin{array}{c|cc} & \\mathbf{0} & \\mathbf{1} \\\\ \\hline \\mathbf{0} & 0.6 & 0.3 \\\\  \\mathbf{1} & 0.4 & 0.7  \\end{array}\n",
    "$"
   ]
  },
  {
   "cell_type": "markdown",
   "metadata": {},
   "source": [
    "We trace Asja's outcomes after two coin flips.\n",
    "\n",
    "<b> At the beginning: </b>\n",
    "\n",
    "<i> Remember the protocol:\n",
    "<ol> \n",
    "    <li> whenever she gets a head, she flips one euro; </li>\n",
    "    <li> whenever she gets a tail, she flips one cent; and </li>\n",
    "    <li> she starts with flipping one euro by assuming that she got head from nowhere </li>\n",
    "</ol>\n",
    "</i>\n",
    "\n",
    "She starts in state 0: $ v_0 = \\myvector{1 \\\\ 0} $.\n",
    "\n",
    "State 0 represents Head and state 1 represents Tail."
   ]
  },
  {
   "cell_type": "markdown",
   "metadata": {},
   "source": [
    "<b>After first coin flip:</b>\n",
    "\n",
    "$  \\mypar{ \n",
    "        GameCoins = \\begin{array}{c|cc} & \\mathbf{Head} & \\mathbf{Tail} \\\\ \\hline \\mathbf{Head} & 0.6 & 0.3\\\\  \\mathbf{Tail} & 0.4 & 0.7  \\end{array}\n",
    "        }\n",
    "    \\mypar{\n",
    "        CurrentState=\\myvector{1 \\\\ 0}\n",
    "    } $\n",
    "    \n",
    "Each entry of the new vector is calculated by a row and current state:\n",
    "\n",
    "$\n",
    "\\myvector{  0.6 \\cdot 1 \\\\ + \\\\ 0.3 \\cdot 0 \\\\ \\hline 0.4 \\cdot 1 \\\\ + \\\\ 0.7 \\cdot 0  }\n",
    "=\n",
    "\\myvector{ 0.6 + 0 \\\\ 0.4 + 0 }\n",
    "=\n",
    "\\myvector{0.6 \\\\ 0.4}.\n",
    "$"
   ]
  },
  {
   "cell_type": "markdown",
   "metadata": {},
   "source": [
    "<b>After second coin flip:</b>\n",
    "\n",
    "$  \\mypar{ \n",
    "        GameCoins = \\begin{array}{c|cc} & \\mathbf{Head} & \\mathbf{Tail} \\\\ \\hline \\mathbf{Head} & 0.6 & 0.3\\\\  \\mathbf{Tail} & 0.4 & 0.7  \\end{array}\n",
    "        }\n",
    "    \\mypar{\n",
    "        CurrentState=\\myvector{0.6 \\\\ 0.4}\n",
    "    } $\n",
    "    \n",
    "Each entry of the new vector is calculated by a row and current state:\n",
    "\n",
    "$\n",
    "\\myvector{  0.6 \\cdot 0.6 \\\\ + \\\\ 0.3 \\cdot 0.4 \\\\ \\hline 0.4 \\cdot 0.6 \\\\ + \\\\ 0.7 \\cdot 0.4  }\n",
    "=\n",
    "\\myvector{ 0.36 + 0.12 \\\\ 0.24 + 0.28 }\n",
    "=\n",
    "\\myvector{0.48 \\\\ 0.52}.\n",
    "$"
   ]
  },
  {
   "cell_type": "markdown",
   "metadata": {},
   "source": [
    "<b>Coin-flipping protocol</b> of Asja is a <i>probabilistic operator</i>.\n",
    "\n",
    "Similarly to any operator, depending on the current state, Asja's coin-flipping protocol determines the next state.\n",
    "\n",
    "$$\n",
    "    \\myvector{1 \\\\ 0} \\xrightarrow{\\mbox{Asja's coin-flipping protocol}} \\myvector{0.6 \\\\ 0.4}\n",
    "    \\xrightarrow{\\mbox{Asja's coin-flipping protocol}}  \\myvector{0.48 \\\\ 0.52}.\n",
    "$$"
   ]
  },
  {
   "cell_type": "markdown",
   "metadata": {},
   "source": [
    "<font color=\"blue\"><b>A probabilistic operator evolves the system from a probabilistic state to a probabilistic state.</b></font>\n",
    "\n",
    "Asja's coin-flipping protocol transforms $ \\myvector{ 0.8 \\\\ 0.2 } $ to $ \\myvector{ 0.54 \\\\ 0.46 } $.\n",
    "\n",
    "When calculating the new state, we use the table $  GameCoins = \\begin{array}{c|cc} & \\mathbf{Head} & \\mathbf{Tail} \\\\ \\hline \\mathbf{Head} & 0.6 & 0.3\\\\  \\mathbf{Tail} & 0.4 & 0.7  \\end{array} $ and the current state $ \\myvector{ 0.8 \\\\ 0.2 } $:\n",
    "\n",
    "$$\n",
    "    \\myvector{ \\myarray{c}{0.6 \\cdot 0.8 \\\\ + \\\\ 0.3 \\cdot 0.2} \\\\ \\hline \\myarray{c}{0.4 \\cdot 0.8 \\\\ + \\\\ 0.7 \\cdot 0.2} } = \\myvector{ \\myarray{c}{0.48 + 0.06} \\\\ \\myarray{c}{0.32 + 0.14}  } = \\myvector{ 0.54 \\\\ 0.46 }.\n",
    "$$"
   ]
  },
  {
   "cell_type": "markdown",
   "metadata": {},
   "source": [
    "<h3> Probabilistic operator </h3>\n",
    "\n",
    "A probabilistic operator can be represented as a square table or matrix.\n",
    "\n",
    "The entries of a probabilistic operator represent the transition probabilities between the states.\n",
    "\n",
    "Therefore, <b>each entry is nonnegative.</b>\n",
    "\n",
    "Each column represent the transition probabilities from a state to all states. Therefore, <b>the summation of all entries in each column is 1</b>, i.e., probability 1 is distributed to all states. \n",
    "\n",
    "Any matrix satisfying these two properties is called a <b> stochastic matrix</b>.\n",
    "\n",
    "A probabilistic operator is a stochastic matrix, and vice versa.\n",
    "\n",
    "<i> Remark that the operator of any linear system is reprented as a matrix. </i>"
   ]
  },
  {
   "cell_type": "markdown",
   "metadata": {},
   "source": [
    "<h3> Probabilistic evolution </h3>\n",
    "\n",
    "A probabilistic state is a stochastic vector,  say $ v $.\n",
    "\n",
    "A probabilistic operator is a stochastic matrix, say $ A $,\n",
    "\n",
    "If probabilistic operator $ A $ is applied to probabilistic state $ v $, the new state, say $v'$, is calculated as \n",
    "\n",
    "$$  v' = A \\cdot v. $$\n",
    "\n",
    "<i> Remark that the evolution of linear system is represented by matrix-vector multiplication. </i>"
   ]
  },
  {
   "cell_type": "markdown",
   "metadata": {},
   "source": [
    "If we represent $ GameCoins $ as a matrix: $ \\mymatrix{cc}{ 0.6 & 0.3 \\\\ 0.4 & 0.7 } $, then the new probabilistic state is calculated as\n",
    "\n",
    "$$\n",
    "    \\myvector{ 0.54 \\\\ 0.46 } = \\mymatrix{cc}{ 0.6 & 0.3 \\\\ 0.4 & 0.7 } \\myvector{ 0.8 \\\\ 0.2 }.\n",
    "$$"
   ]
  },
  {
   "cell_type": "markdown",
   "metadata": {},
   "source": [
    "<h3> Task 1 </h3>\n",
    "\n",
    "The operator $ GameCoins = \\mymatrix{cc}{ 0.6 & 0.3 \\\\ 0.4 & 0.7 } $ is applied to the probabilistic state $ \\myvector{ 0.1 \\\\ 0.9 } $. \n",
    "\n",
    "Then, the new probabilistic state is\n",
    "\n",
    "$$ \\mymatrix{cc}{ 0.6 & 0.3 \\\\ 0.4 & 0.7 } \\myvector{ 0.1 \\\\ 0.9 } = \\myvector{ 0.33 \\\\ 0.67 } .$$\n",
    "\n",
    "Please verify the correctness of matrix-vector multiplication."
   ]
  },
  {
   "cell_type": "markdown",
   "metadata": {},
   "source": [
    "<h3> Task 2 </h3>\n",
    "\n",
    "We are given the following probabilistic operator: $ B =  \\mymatrix{ccc}{ 0.4 & 0.6 & 0 \\\\ 0.2 & 0.1 & 0.7 \\\\ 0.4 & 0.3 & 0.3 } $.\n",
    "\n",
    "What is the transition probability from the second state to third state?\n",
    "\n",
    "What is the transition probability from the third state to first state?\n",
    "\n",
    "What is the transition probability from the first state to second state?"
   ]
  },
  {
   "cell_type": "markdown",
   "metadata": {},
   "source": [
    "<h3>Task 3</h3>\n",
    "\n",
    "Randomly construct a $ (3 \\times 3 ) $-dimensional probabilistic operator.\n",
    "\n",
    "That is, randomly determine the entries of the matrix that represents a probabilistic operator."
   ]
  },
  {
   "cell_type": "code",
   "execution_count": 1,
   "metadata": {},
   "outputs": [
    {
     "name": "stdout",
     "output_type": "stream",
     "text": [
      "matrix A before normalization:\n",
      "[91, 44, 96]\n",
      "[89, 6, 84]\n",
      "[55, 92, 18]\n",
      "\n",
      "matrix A after normalization:\n",
      "[0.3872340425531915, 0.30985915492957744, 0.48484848484848486]\n",
      "[0.37872340425531914, 0.04225352112676056, 0.42424242424242425]\n",
      "[0.23404255319148937, 0.647887323943662, 0.09090909090909091]\n",
      "\n",
      "the column summations must be 1\n",
      "[1.0, 1.0, 1.0]\n"
     ]
    }
   ],
   "source": [
    "# let's start with a zero matrix\n",
    "A = [\n",
    "    [0,0,0],\n",
    "    [0,0,0],\n",
    "    [0,0,0]\n",
    "]\n",
    "\n",
    "# we will randomly pick the entries and then make normalization for each column\n",
    "# it will be easier to iteratively construct the columns\n",
    "# you may notice that each column is a probabilistic state\n",
    "from random import randrange\n",
    "\n",
    "normalization_factor = [0,0,0] # the normalization factor of each column may be different\n",
    "\n",
    "for j in range(3): # each column is iteratively constructed\n",
    "    normalization_factor[j] = 0\n",
    "    while normalization_factor[j]==0: # the normalization factor cannot be zero\n",
    "        for i in range(3):\n",
    "            A[i][j] = randrange(101) # pick a random value between 0 and 100\n",
    "            normalization_factor[j] += A[i][j]\n",
    "\n",
    "# let's print matrix A before the normalization\n",
    "# the entries are between 0 and 100\n",
    "print(\"matrix A before normalization:\")\n",
    "for i in range(3):\n",
    "    print(A[i])\n",
    "\n",
    "\n",
    "# let's normalize each column\n",
    "for j in range(3):\n",
    "    for i in range(3):\n",
    "        A[i][j] /= normalization_factor[j]  # shorter form of A[i][j] = A[i][j] / normalization_factor[j]\n",
    "        \n",
    "# let's print matrix A after the normalization\n",
    "print() # print an empty line\n",
    "print(\"matrix A after normalization:\")\n",
    "for i in range(3):\n",
    "    print(A[i]) \n",
    "\n",
    "print()\n",
    "print(\"the column summations must be 1\")\n",
    "\n",
    "sum = [0,0,0]\n",
    "for j in range(3):\n",
    "    for i in range(3):\n",
    "        sum[j] += A[i][j]\n",
    "\n",
    "print(sum) "
   ]
  },
  {
   "cell_type": "markdown",
   "metadata": {},
   "source": [
    "<a href=\"B15_Probabilistic_Operators_Solutions.ipynb#task3\">click for our solution</a>"
   ]
  },
  {
   "cell_type": "markdown",
   "metadata": {},
   "source": [
    "<h3> Task 4 </h3>\n",
    "\n",
    "What is the new probabilistic state if the operator $ B =  \\mymatrix{ccc}{ 0.4 & 0.6 & 0 \\\\ 0.2 & 0.1 & 0.7 \\\\ 0.4 & 0.3 & 0.3 } $ is applied to the state $ \\myvector{ 0.1 \\\\ 0.3 \\\\ 0.6 } $.\n",
    "\n",
    "Please find the result by using matrix-vector multiplication.\n",
    "\n",
    "Please do not use any python library for matrix-vector multiplication. \n",
    "\n",
    "<i> The new probabilistic state should be $ \\myvector{0.22 \\\\ 0.47 \\\\ 0.31} $. </i>"
   ]
  },
  {
   "cell_type": "code",
   "execution_count": 2,
   "metadata": {},
   "outputs": [
    {
     "name": "stdout",
     "output_type": "stream",
     "text": [
      "[0.22, 0.47, 0.31]\n"
     ]
    }
   ],
   "source": [
    "# operator B\n",
    "B = [\n",
    "    [0.4,0.6,0],\n",
    "    [0.2,0.1,0.7],\n",
    "    [0.4,0.3,0.3]\n",
    "]\n",
    "\n",
    "# the current state\n",
    "v = [0.1,0.3,0.6]\n",
    "\n",
    "newstate = []\n",
    "\n",
    "index = 0\n",
    "\n",
    "for row in B:\n",
    "    newstate.append(0)\n",
    "    for i in range(len(row)):\n",
    "        newstate[index] = newstate[index] + row[i] * v[i]\n",
    "    index = index + 1\n",
    "    \n",
    "print(newstate)"
   ]
  },
  {
   "cell_type": "markdown",
   "metadata": {},
   "source": [
    "<a href=\"B15_Probabilistic_Operators_Solutions.ipynb#task4\">click for our solution</a>"
   ]
  },
  {
   "cell_type": "markdown",
   "metadata": {},
   "source": [
    "<h3> Task 5 </h3>\n",
    "\n",
    "Write a function named <i>linear_evolve</i> that takes a probabilistic operator and a probabilistic state, and then returns the new probabilistic state.\n",
    "\n",
    "Please do not use any python library for matrix-vector multiplication.\n",
    "\n",
    "Your function should work for any dimension.\n",
    "\n",
    "Save your function so that you can use it later.\n",
    "<br><br>\n",
    "<div style=\"background-color:#f8f8f8;\">\n",
    "<b><u>Write the content of a code cell</u></b> into an external file:\n",
    "    \n",
    "    %%writefile linear_evolve.py\n",
    "This command should be placed in the first line of cell, and then the cell should be executed.\n",
    "</div>\n",
    "\n",
    "Test your function on $ B = \\mymatrix{ccc}{ 0.4 & 0.6 & 0 \\\\ 0.2 & 0.1 & 0.7 \\\\ 0.4 & 0.3 & 0.3 } $ and $ \\myvector{0.1 \\\\ 0.3 \\\\ 0.6} $. \n",
    "\n",
    "The new probabilistic state should be $ \\myvector{0.22 \\\\ 0.47 \\\\ 0.31} $.\n",
    "\n",
    "Then, evolve your system for 5, 10, 20, and 40 steps.\n",
    "\n",
    "This system should evolve to a fixed probabilistic state.\n",
    "\n",
    "Change your initial state to  $ \\myvector{1 \\\\ 0 \\\\ 0} $, and see whether the converged state is the same or not."
   ]
  },
  {
   "cell_type": "code",
   "execution_count": 9,
   "metadata": {},
   "outputs": [
    {
     "name": "stderr",
     "output_type": "stream",
     "text": [
      "UsageError: %%writefile is a cell magic, but the cell body is empty.\n"
     ]
    }
   ],
   "source": [
    "%%writefile linear_evolve.py"
   ]
  },
  {
   "cell_type": "code",
   "execution_count": 15,
   "metadata": {},
   "outputs": [
    {
     "name": "stdout",
     "output_type": "stream",
     "text": [
      "[0.22, 0.47, 0.31]\n",
      "[0.33378399999999997, 0.33309199999999994, 0.333124]\n",
      "[0.3333328297599999, 0.3333337260799999, 0.33333344415999994]\n",
      "[0.33333333333309395, 0.3333333333336499, 0.3333333333332556]\n",
      "[0.33333333333333315, 0.33333333333333315, 0.33333333333333315]\n"
     ]
    }
   ],
   "source": [
    "def linear_evolve(operator,state):\n",
    "    newstate=[]\n",
    "    for i in range(len(operator)): # for each row\n",
    "        # we calculate the corresponding entry of the new state\n",
    "        newstate.append(0) # we set this value to 0 for the initialization\n",
    "        for j in range(len(state)): # for each element in state\n",
    "            newstate[i] = newstate[i] + operator[i][j] * state[j] # summation of pairwise multiplications\n",
    "    return newstate # return the new probabilistic state\n",
    "# test the function\n",
    "\n",
    "# operator for the test\n",
    "B = [\n",
    "    [0.4,0.6,0],\n",
    "    [0.2,0.1,0.7],\n",
    "    [0.4,0.3,0.3]\n",
    "]\n",
    "\n",
    "# state for test\n",
    "v = [0.1,0.3,0.6]\n",
    "\n",
    "newstate = linear_evolve(B,v)\n",
    "print(newstate)\n",
    "\n",
    "for step in [5,10,20,40]:\n",
    "    new_state = [0.1,0.3,0.6] # initial state\n",
    "    for i in range(step):\n",
    "        new_state = linear_evolve(B,new_state)\n",
    "    print(new_state)\n"
   ]
  },
  {
   "cell_type": "code",
   "execution_count": 16,
   "metadata": {},
   "outputs": [
    {
     "name": "stdout",
     "output_type": "stream",
     "text": [
      "[0.33255999999999997, 0.33391999999999994, 0.33352]\n",
      "[0.33333399039999995, 0.3333327007999999, 0.33333330879999995]\n",
      "[0.3333333333334263, 0.33333333333305704, 0.3333333333335162]\n",
      "[0.33333333333333315, 0.33333333333333315, 0.33333333333333315]\n"
     ]
    }
   ],
   "source": [
    "    \n",
    "# change the initial state\n",
    "\n",
    "for step in [5,10,20,40]:\n",
    "    new_state = [1,0,0] # initial state\n",
    "    for i in range(step):\n",
    "        new_state = linear_evolve(B,new_state)\n",
    "    print(new_state)"
   ]
  },
  {
   "cell_type": "markdown",
   "metadata": {},
   "source": [
    "<a href=\"B15_Probabilistic_Operators_Solutions.ipynb#task4\">click for our solution</a>"
   ]
  },
  {
   "cell_type": "markdown",
   "metadata": {},
   "source": [
    "<h3> Task 6 [extra] </h3>\n",
    "\n",
    "The operator $ \\widetilde{I} = \\mymatrix{cc}{0.999 & 0.001\\\\ 0.001 & 0.999 } $ is very similar to Identity operator. However, it converges to a certain matrix.\n",
    "\n",
    "Find $  \\underbrace{\\widetilde{I} \\cdot \\widetilde{I} \\cdots \\widetilde{I}}_{k\\mbox{ times}} $ for $ k = 10, 100, 1000, 10000, 100000 $ and then guess the converging matrix."
   ]
  },
  {
   "cell_type": "code",
   "execution_count": 22,
   "metadata": {},
   "outputs": [
    {
     "name": "stdout",
     "output_type": "stream",
     "text": [
      "10\n",
      "[[0.99008952 0.00991048]\n",
      " [0.00991048 0.99008952]]\n",
      "100\n",
      "[[0.90197496 0.09802504]\n",
      " [0.09802504 0.90197496]]\n",
      "1000\n",
      "[[0.55440136 0.44559864]\n",
      " [0.44559864 0.55440136]]\n",
      "10000\n",
      "[[0.5 0.5]\n",
      " [0.5 0.5]]\n",
      "100000\n",
      "[[0.5 0.5]\n",
      " [0.5 0.5]]\n"
     ]
    }
   ],
   "source": [
    "import numpy as np \n",
    "i = np.array([[0.999, 0.001],\n",
    "             [0.001, 0.999]], float)\n",
    "\n",
    "I = np.array([[0.999, 0.001],\n",
    "             [0.001,0.999]], float)\n",
    "\n",
    "\n",
    "for k in [10,100,1000,10000,100000]:\n",
    "    print(k)\n",
    "    for _ in range(1, k):\n",
    "        I = I.dot(i)\n",
    "    print(I)"
   ]
  },
  {
   "cell_type": "markdown",
   "metadata": {},
   "source": [
    "<h3> Task 7 [extra] </h3>\n",
    "\n",
    "Repeat Task 6 for the operator $ \\widetilde{NOT} = \\mymatrix{cc}{0.001 & 0.999\\\\ 0.999 & 0.001 } $."
   ]
  },
  {
   "cell_type": "code",
   "execution_count": 23,
   "metadata": {},
   "outputs": [
    {
     "name": "stdout",
     "output_type": "stream",
     "text": [
      "10\n",
      "[[0.99008952 0.00991048]\n",
      " [0.00991048 0.99008952]]\n",
      "100\n",
      "[[0.09802504 0.90197496]\n",
      " [0.90197496 0.09802504]]\n",
      "1000\n",
      "[[0.55440136 0.44559864]\n",
      " [0.44559864 0.55440136]]\n",
      "10000\n",
      "[[0.5 0.5]\n",
      " [0.5 0.5]]\n",
      "100000\n",
      "[[0.5 0.5]\n",
      " [0.5 0.5]]\n"
     ]
    }
   ],
   "source": [
    "import numpy as np \n",
    "i = np.array([[0.001, 0.999],\n",
    "             [0.999, 0.001]], float)\n",
    "\n",
    "I = np.array([[0.001, 0.999],\n",
    "             [0.999, 0.001]], float)\n",
    "\n",
    "\n",
    "\n",
    "for k in [10,100,1000,10000,100000]:\n",
    "    print(k)\n",
    "    for _ in range(1, k):\n",
    "        I = I.dot(i)\n",
    "    print(I)"
   ]
  }
 ],
 "metadata": {
  "kernelspec": {
   "display_name": "Python 3",
   "language": "python",
   "name": "python3"
  },
  "language_info": {
   "codemirror_mode": {
    "name": "ipython",
    "version": 3
   },
   "file_extension": ".py",
   "mimetype": "text/x-python",
   "name": "python",
   "nbconvert_exporter": "python",
   "pygments_lexer": "ipython3",
   "version": "3.7.1"
  }
 },
 "nbformat": 4,
 "nbformat_minor": 2
}
