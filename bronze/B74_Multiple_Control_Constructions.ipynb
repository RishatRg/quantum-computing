{
 "cells": [
  {
   "cell_type": "markdown",
   "metadata": {},
   "source": [
    "<table>\n",
    "    <tr>\n",
    "        <td  style=\"background-color:#ffffff;\"><a href=\"https://qsoftware.lu.lv/index.php/qworld/\" target=\"_blank\"><img src=\"..\\images\\qworld.jpg\" width=\"70%\" align=\"left\"></a></td>\n",
    "        <td style=\"background-color:#ffffff;\" width=\"*\"></td>\n",
    "        <td  style=\"background-color:#ffffff;vertical-align:text-top;\"><a href=\"https://qsoftware.lu.lv\" target=\"_blank\"><img src=\"..\\images\\logo.jpg\" width=\"25%\" align=\"right\"></a></td>        \n",
    "    </tr>\n",
    "    <tr><td colspan=\"3\" align=\"right\" style=\"color:#777777;background-color:#ffffff;font-size:12px;\">\n",
    "        prepared by Maksim Dimitrijev\n",
    "    </td></tr>\n",
    "    <tr><td colspan=\"3\" align=\"right\" style=\"color:#bbbbbb;background-color:#ffffff;font-size:11px;font-style:italic;\">\n",
    "        This cell contains some macros. If there is a problem with displaying mathematical formulas, please run this cell to load these macros.\n",
    "    </td></tr>\n",
    "</table>\n",
    "$ \\newcommand{\\bra}[1]{\\langle #1|} $\n",
    "$ \\newcommand{\\ket}[1]{|#1\\rangle} $\n",
    "$ \\newcommand{\\braket}[2]{\\langle #1|#2\\rangle} $\n",
    "$ \\newcommand{\\dot}[2]{ #1 \\cdot #2} $\n",
    "$ \\newcommand{\\biginner}[2]{\\left\\langle #1,#2\\right\\rangle} $\n",
    "$ \\newcommand{\\mymatrix}[2]{\\left( \\begin{array}{#1} #2\\end{array} \\right)} $\n",
    "$ \\newcommand{\\myvector}[1]{\\mymatrix{c}{#1}} $\n",
    "$ \\newcommand{\\myrvector}[1]{\\mymatrix{r}{#1}} $\n",
    "$ \\newcommand{\\mypar}[1]{\\left( #1 \\right)} $\n",
    "$ \\newcommand{\\mybigpar}[1]{ \\Big( #1 \\Big)} $\n",
    "$ \\newcommand{\\sqrttwo}{\\frac{1}{\\sqrt{2}}} $\n",
    "$ \\newcommand{\\dsqrttwo}{\\dfrac{1}{\\sqrt{2}}} $\n",
    "$ \\newcommand{\\onehalf}{\\frac{1}{2}} $\n",
    "$ \\newcommand{\\donehalf}{\\dfrac{1}{2}} $\n",
    "$ \\newcommand{\\hadamard}{ \\mymatrix{rr}{ \\sqrttwo & \\sqrttwo \\\\ \\sqrttwo & -\\sqrttwo }} $\n",
    "$ \\newcommand{\\vzero}{\\myvector{1\\\\0}} $\n",
    "$ \\newcommand{\\vone}{\\myvector{0\\\\1}} $\n",
    "$ \\newcommand{\\vhadamardzero}{\\myvector{ \\sqrttwo \\\\  \\sqrttwo } } $\n",
    "$ \\newcommand{\\vhadamardone}{ \\myrvector{ \\sqrttwo \\\\ -\\sqrttwo } } $\n",
    "$ \\newcommand{\\myarray}[2]{ \\begin{array}{#1}#2\\end{array}} $\n",
    "$ \\newcommand{\\X}{ \\mymatrix{cc}{0 & 1 \\\\ 1 & 0}  } $\n",
    "$ \\newcommand{\\Z}{ \\mymatrix{rr}{1 & 0 \\\\ 0 & -1}  } $\n",
    "$ \\newcommand{\\Htwo}{ \\mymatrix{rrrr}{ \\frac{1}{2} & \\frac{1}{2} & \\frac{1}{2} & \\frac{1}{2} \\\\ \\frac{1}{2} & -\\frac{1}{2} & \\frac{1}{2} & -\\frac{1}{2} \\\\ \\frac{1}{2} & \\frac{1}{2} & -\\frac{1}{2} & -\\frac{1}{2} \\\\ \\frac{1}{2} & -\\frac{1}{2} & -\\frac{1}{2} & \\frac{1}{2} } } $\n",
    "$ \\newcommand{\\CNOT}{ \\mymatrix{cccc}{1 & 0 & 0 & 0 \\\\ 0 & 1 & 0 & 0 \\\\ 0 & 0 & 0 & 1 \\\\ 0 & 0 & 1 & 0} } $\n",
    "$ \\newcommand{\\norm}[1]{ \\left\\lVert #1 \\right\\rVert } $"
   ]
  },
  {
   "cell_type": "markdown",
   "metadata": {},
   "source": [
    "<h2>Multiple Control Constructions</h2>"
   ]
  },
  {
   "cell_type": "markdown",
   "metadata": {},
   "source": [
    "Remember CNOT gate, which applies the NOT operator to the target qubit if the control qubit is in state $\\ket{1}$. What can we do if we want to apply the NOT operator when the control qubit is in state $\\ket{0}$? In other words, we want to obtain the following operator:\n",
    "\n",
    "$\\mymatrix{cccc}{0 & 1 & 0 & 0 \\\\ 1 & 0 & 0 & 0 \\\\ 0 & 0 & 1 & 0 \\\\ 0 & 0 & 0 & 1}$.\n",
    "\n",
    "We can use our regular CNOT operator, and to change the condition for the control qubit we can apply NOT operator to it before the CNOT - this way the NOT operator will be applied to the target qubit when initially the state of the control qubit was $\\ket{0}$.\n",
    "\n",
    "Now we will contruct our operator for two qubits:\n",
    "<ul>\n",
    "    <li>Apply NOT operator to qubit 1;</li>\n",
    "    <li>Apply CNOT operator, where qubit 1 is control and qubit 0 is target;</li>\n",
    "    <li>Apply NOT operator to qubit 1 - to revert it to the initial state.</li>\n",
    "</ul>\n",
    "\n",
    "Let's check our implementation."
   ]
  },
  {
   "cell_type": "code",
   "execution_count": null,
   "metadata": {},
   "outputs": [],
   "source": [
    "from qiskit import QuantumRegister, ClassicalRegister, QuantumCircuit, execute, Aer\n",
    "\n",
    "qreg1 =  QuantumRegister(2)\n",
    "creg1 = ClassicalRegister(2)\n",
    "\n",
    "mycircuit1 = QuantumCircuit(qreg1,creg1)\n",
    "\n",
    "mycircuit1.x(qreg1[1])\n",
    "\n",
    "mycircuit1.cx(qreg1[1],qreg1[0])\n",
    "\n",
    "# Returning control qubit to the initial state\n",
    "mycircuit1.x(qreg1[1])\n",
    "\n",
    "job = execute(mycircuit1,Aer.get_backend('unitary_simulator'))\n",
    "u=job.result().get_unitary(mycircuit1,decimals=3)\n",
    "for i in range(len(u)):\n",
    "    s=\"\"\n",
    "    for j in range(len(u)):\n",
    "        val = str(u[i][j].real)\n",
    "        while(len(val)<5): val  = \" \"+val\n",
    "        s = s + val\n",
    "    print(s)\n",
    "\n",
    "mycircuit1.draw(output=\"mpl\")"
   ]
  },
  {
   "cell_type": "markdown",
   "metadata": {},
   "source": [
    "Although this trick is quite simple, this approach is important and will be very useful in our following implementations."
   ]
  },
  {
   "cell_type": "markdown",
   "metadata": {},
   "source": [
    "<h3>CCNOT</h3>\n",
    "\n",
    "Now we will discuss CNOT gate controlled by two qubits (also called Toffoli gate). This gate needs 3 parameters to be provided:\n",
    "\n",
    "    circuit.ccx(control-qubit1,control-qubit2,target-qubit)\n",
    "\n",
    "The idea behind this gate is simple - NOT operator is applied to the target qubit when both control qubits are in state $\\ket{1}$. Below you can see its matrix representation:\n",
    "\n",
    "$\\mymatrix{cccccccc}{1 & 0 & 0 & 0 & 0 & 0 & 0 & 0 \\\\ 0 & 1 & 0 & 0 & 0 & 0 & 0 & 0 \\\\ 0 & 0 & 1 & 0 & 0 & 0 & 0 & 0 \\\\ 0 & 0 & 0 & 1 & 0 & 0 & 0 & 0 \\\\ 0 & 0 & 0 & 0 & 1 & 0 & 0 & 0 \\\\ 0 & 0 & 0 & 0 & 0 & 1 & 0 & 0 \\\\ 0 & 0 & 0 & 0 & 0 & 0 & 0 & 1 \\\\ 0 & 0 & 0 & 0 & 0 & 0 & 1 & 0}$.\n",
    "\n",
    "CCNOT gate can also be applied to the target qubit if control qubits are in different states by using our recently considered trick. For example, the following implementation allows to apply NOT operator to the target qubit if both control qubits were initially in state $\\ket{0}$."
   ]
  },
  {
   "cell_type": "code",
   "execution_count": null,
   "metadata": {},
   "outputs": [],
   "source": [
    "from qiskit import QuantumRegister, ClassicalRegister, QuantumCircuit, execute, Aer\n",
    "\n",
    "qreg2 =  QuantumRegister(3)\n",
    "creg2 = ClassicalRegister(3)\n",
    "\n",
    "mycircuit2 = QuantumCircuit(qreg2,creg2)\n",
    "\n",
    "mycircuit2.x(qreg2[2])\n",
    "mycircuit2.x(qreg2[1])\n",
    "\n",
    "mycircuit2.ccx(qreg2[2],qreg2[1],qreg2[0])\n",
    "\n",
    "# Returning control qubits to the initial state\n",
    "mycircuit2.x(qreg2[1])\n",
    "mycircuit2.x(qreg2[2])\n",
    "\n",
    "job = execute(mycircuit2,Aer.get_backend('unitary_simulator'))\n",
    "u=job.result().get_unitary(mycircuit2,decimals=3)\n",
    "for i in range(len(u)):\n",
    "    s=\"\"\n",
    "    for j in range(len(u)):\n",
    "        val = str(u[i][j].real)\n",
    "        while(len(val)<5): val  = \" \"+val\n",
    "        s = s + val\n",
    "    print(s)\n",
    "\n",
    "mycircuit2.draw(output=\"mpl\")"
   ]
  },
  {
   "cell_type": "markdown",
   "metadata": {},
   "source": [
    "<h3>More controls</h3>\n",
    "\n",
    "There could also exist need to perform control with more than two qubits. Qiskit provides only operator with two control qubits, but we can use it to form a structure that allows to involve more qubits for control. For this purpose we will also use additional qubits. The idea for the structure is to control the qubit by another two qubits, and then to use this target qubit as control for the next CCNOT operation. Let's check an example for three control qubits. We will use qubits 4,3,2 for control, qubit 0 for target, and qubit 1 as additional qubit to help us perform the operation. You can remove any of x-gates to see that we control the qubit 0 with all three qubits."
   ]
  },
  {
   "cell_type": "code",
   "execution_count": null,
   "metadata": {},
   "outputs": [],
   "source": [
    "from qiskit import QuantumRegister, ClassicalRegister, QuantumCircuit, execute, Aer\n",
    "\n",
    "qreg3 =  QuantumRegister(5)\n",
    "creg3 = ClassicalRegister(5)\n",
    "\n",
    "mycircuit3 = QuantumCircuit(qreg3,creg3)\n",
    "\n",
    "mycircuit3.x(qreg3[4])\n",
    "mycircuit3.x(qreg3[3])\n",
    "mycircuit3.x(qreg3[2])\n",
    "\n",
    "mycircuit3.ccx(qreg3[4],qreg3[3],qreg3[1])\n",
    "mycircuit3.ccx(qreg3[2],qreg3[1],qreg3[0])\n",
    "\n",
    "# Returning additional qubit to the initial state\n",
    "mycircuit3.ccx(qreg3[4],qreg3[3],qreg3[1])\n",
    "\n",
    "mycircuit3.measure(qreg3,creg3)\n",
    "\n",
    "job = execute(mycircuit3,Aer.get_backend('qasm_simulator'),shots=10000)\n",
    "counts3 = job.result().get_counts(mycircuit3)\n",
    "print(counts3) # print the outcomes\n",
    "\n",
    "mycircuit3.draw(output=\"mpl\")"
   ]
  },
  {
   "cell_type": "markdown",
   "metadata": {},
   "source": [
    "<h3>Task 1</h3>\n",
    "\n",
    "Implement the NOT operator controlled by 4 qubits. You will need additional qubits."
   ]
  },
  {
   "cell_type": "code",
   "execution_count": 1,
   "metadata": {},
   "outputs": [
    {
     "name": "stdout",
     "output_type": "stream",
     "text": [
      "{'1111001': 10000}\n"
     ]
    },
    {
     "data": {
      "image/png": "[encoded data removed]",
      "text/plain": [
       "<Figure size 949.956x505.68 with 1 Axes>"
      ]
     },
     "execution_count": 1,
     "metadata": {},
     "output_type": "execute_result"
    }
   ],
   "source": [
    "from qiskit import QuantumRegister, ClassicalRegister, QuantumCircuit, execute, Aer\n",
    "\n",
    "qreg4 =  QuantumRegister(7)\n",
    "creg4 = ClassicalRegister(7)\n",
    "\n",
    "mycircuit4 = QuantumCircuit(qreg4,creg4)\n",
    "\n",
    "mycircuit4.x(qreg4[6])\n",
    "mycircuit4.x(qreg4[5])\n",
    "mycircuit4.x(qreg4[4])\n",
    "mycircuit4.x(qreg4[3])\n",
    "\n",
    "mycircuit4.ccx(qreg4[6],qreg4[5],qreg4[2])\n",
    "mycircuit4.ccx(qreg4[4],qreg4[3],qreg4[1])\n",
    "mycircuit4.ccx(qreg4[2],qreg4[1],qreg4[0])\n",
    "\n",
    "# Returning additional qubits to the initial state\n",
    "mycircuit4.ccx(qreg4[4],qreg4[3],qreg4[1])\n",
    "mycircuit4.ccx(qreg4[6],qreg4[5],qreg4[2])\n",
    "\n",
    "mycircuit4.measure(qreg4,creg4)\n",
    "\n",
    "job = execute(mycircuit4,Aer.get_backend('qasm_simulator'),shots=10000)\n",
    "counts4 = job.result().get_counts(mycircuit4)\n",
    "print(counts4)\n",
    "\n",
    "mycircuit4.draw(output=\"mpl\")"
   ]
  },
  {
   "cell_type": "markdown",
   "metadata": {},
   "source": [
    "<h3>Task 2</h3>\n",
    "\n",
    "Implement the following control - the NOT operator is applied to the target qubit if 5 control qubits are initially in the state $\\ket{10101}$."
   ]
  },
  {
   "cell_type": "code",
   "execution_count": 2,
   "metadata": {},
   "outputs": [
    {
     "name": "stdout",
     "output_type": "stream",
     "text": [
      "{'000000000': 10000}\n"
     ]
    },
    {
     "data": {
      "image/png": "[encoded data removed]",
      "text/plain": [
       "<Figure size 1190.76x626.08 with 1 Axes>"
      ]
     },
     "execution_count": 2,
     "metadata": {},
     "output_type": "execute_result"
    }
   ],
   "source": [
    "from qiskit import QuantumRegister, ClassicalRegister, QuantumCircuit, execute, Aer\n",
    "\n",
    "qreg5 =  QuantumRegister(9)\n",
    "creg5 = ClassicalRegister(9)\n",
    "\n",
    "mycircuit5 = QuantumCircuit(qreg5,creg5)\n",
    "\n",
    "mycircuit5.x(qreg5[7])\n",
    "mycircuit5.x(qreg5[5])\n",
    "\n",
    "mycircuit5.ccx(qreg5[8],qreg5[7],qreg5[3])\n",
    "mycircuit5.ccx(qreg5[6],qreg5[5],qreg5[2])\n",
    "mycircuit5.ccx(qreg5[4],qreg5[3],qreg5[1])\n",
    "\n",
    "mycircuit5.ccx(qreg5[2],qreg5[1],qreg5[0])\n",
    "\n",
    "# Returning additional and control qubits to the initial state\n",
    "mycircuit5.ccx(qreg5[4],qreg5[3],qreg5[1])\n",
    "mycircuit5.ccx(qreg5[6],qreg5[5],qreg5[2])\n",
    "mycircuit5.ccx(qreg5[8],qreg5[7],qreg5[3])\n",
    "mycircuit5.x(qreg5[5])\n",
    "mycircuit5.x(qreg5[7])\n",
    "\n",
    "mycircuit5.measure(qreg5,creg5)\n",
    "\n",
    "job = execute(mycircuit5,Aer.get_backend('qasm_simulator'),shots=10000)\n",
    "counts5 = job.result().get_counts(mycircuit5)\n",
    "print(counts5)\n",
    "\n",
    "mycircuit5.draw(output=\"mpl\")"
   ]
  },
  {
   "cell_type": "markdown",
   "metadata": {},
   "source": [
    "<h3>Task 3 (optional)</h3>\n",
    "\n",
    "Implement the parametrized controlled NOT operator with 4 control qubits, where parameter will be the state of control qubits for which NOT operator will be applied to the target qubit.\n",
    "\n",
    "As a result you need to define the following function: <i>control(circuit,quantum_reg,number)</i>, where:\n",
    "<ul>\n",
    "    <li><i>circuit</i> allows to pass the quantum circuit;</li>\n",
    "    <li><i>quantum_reg</i> allows to pass the quantum register;</li>\n",
    "    <li><i>state</i> is the state of control qubits, between 0 and 15, where 0 corresponds to 0000 and 15 corresponds to 1111 (like binary numbers :) ).</li>\n",
    "</ul>"
   ]
  },
  {
   "cell_type": "code",
   "execution_count": 3,
   "metadata": {},
   "outputs": [],
   "source": [
    "#state - the state of control qubits, between 0 and 15.\n",
    "def control(circuit,quantum_reg,state):\n",
    "    if(state%2 == 0):\n",
    "        circuit.x(quantum_reg[3])\n",
    "    if(state%4 < 2):\n",
    "        circuit.x(quantum_reg[4])\n",
    "    if(state%8 < 4):\n",
    "        circuit.x(quantum_reg[5])\n",
    "    if(state < 8):\n",
    "        circuit.x(quantum_reg[6])\n",
    "    circuit.ccx(quantum_reg[6],quantum_reg[5],quantum_reg[2])\n",
    "    circuit.ccx(quantum_reg[4],quantum_reg[3],quantum_reg[1])\n",
    "    circuit.ccx(quantum_reg[2],quantum_reg[1],quantum_reg[0])\n",
    "    circuit.ccx(quantum_reg[4],quantum_reg[3],quantum_reg[1])\n",
    "    circuit.ccx(quantum_reg[6],quantum_reg[5],quantum_reg[2])\n",
    "    if(state < 8):\n",
    "        circuit.x(quantum_reg[6])\n",
    "    if(state%8 < 4):\n",
    "        circuit.x(quantum_reg[5])\n",
    "    if(state%4 < 2):\n",
    "        circuit.x(quantum_reg[4])\n",
    "    if(state%2 == 0):\n",
    "        circuit.x(quantum_reg[3])"
   ]
  },
  {
   "cell_type": "markdown",
   "metadata": {},
   "source": [
    "You can play around with the following code to see that your function is implementing the mentioned control operation (if you did it correctly, in provided example the value of last bit after measurement will be 1)."
   ]
  },
  {
   "cell_type": "code",
   "execution_count": 4,
   "metadata": {},
   "outputs": [
    {
     "name": "stdout",
     "output_type": "stream",
     "text": [
      "{'0101001': 10000}\n"
     ]
    }
   ],
   "source": [
    "from qiskit import QuantumRegister, ClassicalRegister, QuantumCircuit, execute, Aer\n",
    "\n",
    "qreg6 =  QuantumRegister(7)\n",
    "creg6 = ClassicalRegister(7)\n",
    "\n",
    "mycircuit6 = QuantumCircuit(qreg6,creg6)\n",
    "\n",
    "mycircuit6.x(qreg6[5])\n",
    "mycircuit6.x(qreg6[3])\n",
    "control(mycircuit6,qreg6,5)\n",
    "mycircuit6.measure(qreg6,creg6)\n",
    "\n",
    "job = execute(mycircuit6,Aer.get_backend('qasm_simulator'),shots=10000)\n",
    "counts6 = job.result().get_counts(mycircuit6)\n",
    "print(counts6)"
   ]
  },
  {
   "cell_type": "code",
   "execution_count": null,
   "metadata": {},
   "outputs": [],
   "source": []
  }
 ],
 "metadata": {
  "kernelspec": {
   "display_name": "Python 3",
   "language": "python",
   "name": "python3"
  },
  "language_info": {
   "codemirror_mode": {
    "name": "ipython",
    "version": 3
   },
   "file_extension": ".py",
   "mimetype": "text/x-python",
   "name": "python",
   "nbconvert_exporter": "python",
   "pygments_lexer": "ipython3",
   "version": "3.7.1"
  }
 },
 "nbformat": 4,
 "nbformat_minor": 2
}
