{
 "cells": [
  {
   "cell_type": "markdown",
   "metadata": {},
   "source": [
    "<table>\n",
    "    <tr>\n",
    "        <td  style=\"background-color:#ffffff;\"><a href=\"https://qsoftware.lu.lv/index.php/qworld/\" target=\"_blank\"><img src=\"..\\images\\qworld.jpg\" width=\"70%\" align=\"left\"></a></td>\n",
    "        <td style=\"background-color:#ffffff;\" width=\"*\"></td>\n",
    "        <td  style=\"background-color:#ffffff;vertical-align:text-top;\"><a href=\"https://qsoftware.lu.lv\" target=\"_blank\"><img src=\"..\\images\\logo.jpg\" width=\"25%\" align=\"right\"></a></td>        \n",
    "    </tr>\n",
    "    <tr><td colspan=\"3\" align=\"right\" style=\"color:#777777;background-color:#ffffff;font-size:12px;\">\n",
    "        prepared by <a href=\"http://abu.lu.lv\" target=\"_blank\">Abuzer Yakaryilmaz</a>\n",
    "    </td></tr>\n",
    "    <tr><td colspan=\"3\" align=\"right\" style=\"color:#bbbbbb;background-color:#ffffff;font-size:11px;font-style:italic;\">\n",
    "        This cell contains some macros. If there is a problem with displaying mathematical formulas, please run this cell to load these macros.\n",
    "    </td></tr>\n",
    "</table>\n",
    "$ \\newcommand{\\bra}[1]{\\langle #1|} $\n",
    "$ \\newcommand{\\ket}[1]{|#1\\rangle} $\n",
    "$ \\newcommand{\\braket}[2]{\\langle #1|#2\\rangle} $\n",
    "$ \\newcommand{\\dot}[2]{ #1 \\cdot #2} $\n",
    "$ \\newcommand{\\biginner}[2]{\\left\\langle #1,#2\\right\\rangle} $\n",
    "$ \\newcommand{\\mymatrix}[2]{\\left( \\begin{array}{#1} #2\\end{array} \\right)} $\n",
    "$ \\newcommand{\\myvector}[1]{\\mymatrix{c}{#1}} $\n",
    "$ \\newcommand{\\myrvector}[1]{\\mymatrix{r}{#1}} $\n",
    "$ \\newcommand{\\mypar}[1]{\\left( #1 \\right)} $\n",
    "$ \\newcommand{\\mybigpar}[1]{ \\Big( #1 \\Big)} $\n",
    "$ \\newcommand{\\sqrttwo}{\\frac{1}{\\sqrt{2}}} $\n",
    "$ \\newcommand{\\dsqrttwo}{\\dfrac{1}{\\sqrt{2}}} $\n",
    "$ \\newcommand{\\onehalf}{\\frac{1}{2}} $\n",
    "$ \\newcommand{\\donehalf}{\\dfrac{1}{2}} $\n",
    "$ \\newcommand{\\hadamard}{ \\mymatrix{rr}{ \\sqrttwo & \\sqrttwo \\\\ \\sqrttwo & -\\sqrttwo }} $\n",
    "$ \\newcommand{\\vzero}{\\myvector{1\\\\0}} $\n",
    "$ \\newcommand{\\vone}{\\myvector{0\\\\1}} $\n",
    "$ \\newcommand{\\vhadamardzero}{\\myvector{ \\sqrttwo \\\\  \\sqrttwo } } $\n",
    "$ \\newcommand{\\vhadamardone}{ \\myrvector{ \\sqrttwo \\\\ -\\sqrttwo } } $\n",
    "$ \\newcommand{\\myarray}[2]{ \\begin{array}{#1}#2\\end{array}} $\n",
    "$ \\newcommand{\\X}{ \\mymatrix{cc}{0 & 1 \\\\ 1 & 0}  } $\n",
    "$ \\newcommand{\\Z}{ \\mymatrix{rr}{1 & 0 \\\\ 0 & -1}  } $\n",
    "$ \\newcommand{\\Htwo}{ \\mymatrix{rrrr}{ \\frac{1}{2} & \\frac{1}{2} & \\frac{1}{2} & \\frac{1}{2} \\\\ \\frac{1}{2} & -\\frac{1}{2} & \\frac{1}{2} & -\\frac{1}{2} \\\\ \\frac{1}{2} & \\frac{1}{2} & -\\frac{1}{2} & -\\frac{1}{2} \\\\ \\frac{1}{2} & -\\frac{1}{2} & -\\frac{1}{2} & \\frac{1}{2} } } $\n",
    "$ \\newcommand{\\CNOT}{ \\mymatrix{cccc}{1 & 0 & 0 & 0 \\\\ 0 & 1 & 0 & 0 \\\\ 0 & 0 & 0 & 1 \\\\ 0 & 0 & 1 & 0} } $\n",
    "$ \\newcommand{\\norm}[1]{ \\left\\lVert #1 \\right\\rVert } $"
   ]
  },
  {
   "cell_type": "markdown",
   "metadata": {},
   "source": [
    "<h2>Rotations</h2>"
   ]
  },
  {
   "cell_type": "markdown",
   "metadata": {},
   "source": [
    "<table align=\"left\"><tr><td><i>\n",
    "We use certain tools from python library \"<b>matplotlib.pyplot</b>\" for drawing. \n",
    "\n",
    "Check the notebook \"<a href=\"../python/Python06_Drawing.ipynb\" target=\"_blank\">Python: Drawing</a>\" for the list of these tools.\n",
    "</i></td></tr></table>"
   ]
  },
  {
   "cell_type": "markdown",
   "metadata": {},
   "source": [
    "We start with drawing the quantum states $ \\ket{0} $ and $ \\ket{+} = \\myvector{ \\frac{1}{\\sqrt{2}} \\\\ \\frac{1}{\\sqrt{2}} } $."
   ]
  },
  {
   "cell_type": "markdown",
   "metadata": {},
   "source": [
    "<i style=\"font-size:10pt;\">\n",
    "Our predefined function \"draw_qubit()\" draws a figure, the origin, the axes, the unit circle, and base quantum states.\n",
    "<br>\n",
    "Our predefined function \"draw_quantum_state(x,y,name)\" draws an arrow from (0,0) to (x,y) and associates it with <u>name</u>.\n",
    "<br>\n",
    "We include our predefined functions with the following line of code:\n",
    "    \n",
    "    %run qlatvia.py\n",
    "</i>   "
   ]
  },
  {
   "cell_type": "code",
   "execution_count": null,
   "metadata": {},
   "outputs": [],
   "source": [
    "%run qlatvia.py\n",
    "\n",
    "draw_qubit()\n",
    "\n",
    "sqrttwo=2**0.5\n",
    "\n",
    "draw_quantum_state(1,0,\"\")\n",
    "\n",
    "draw_quantum_state(1/sqrttwo,1/sqrttwo,\"|+>\")\n",
    "\n",
    "# drawing the angle with |0>-axis\n",
    "from matplotlib.pyplot import gca, text\n",
    "from matplotlib.patches import Arc\n",
    "gca().add_patch( Arc((0,0),0.4,0.4,angle=0,theta1=0,theta2=45) )\n",
    "text(0.08,0.05,'.',fontsize=30)\n",
    "text(0.21,0.09,'\\u03C0/4')"
   ]
  },
  {
   "cell_type": "markdown",
   "metadata": {},
   "source": [
    "<h3> Task 1 (Discussion) </h3>\n",
    "\n",
    "Suppose that we start in state $ \\ket{0} $, and then obtain state $\\ket{+}$ by appling a rotation operator. \n",
    "\n",
    "If we apply the same operator consequtively, what can be the new quantum state?\n",
    "\n",
    "Here are eight candidates:\n",
    "\n",
    "$$\n",
    "    \\myarray{|c|c|c|c|}{\n",
    "        \\hline\n",
    "        A & \\ket{0} = \\vzero & E & \\ket{+} = \\myrvector{\\sqrttwo \\\\ \\sqrttwo}\n",
    "        \\\\ \\hline\n",
    "        B & \\ket{1} = \\vone & F & \\ket{-} = \\myrvector{\\sqrttwo \\\\ -\\sqrttwo}\n",
    "        \\\\ \\hline\n",
    "        C & -\\ket{0} = \\myrvector{-1 \\\\ 0} & G & -\\ket{+} = \\myrvector{-\\sqrttwo \\\\ -\\sqrttwo}\n",
    "        \\\\ \\hline\n",
    "        D & -\\ket{1} = \\myrvector{0 \\\\ -1} & H & -\\ket{-} = \\myrvector{-\\sqrttwo \\\\ \\sqrttwo}\n",
    "        \\\\ \\hline\n",
    "    }\n",
    "$$"
   ]
  },
  {
   "cell_type": "markdown",
   "metadata": {},
   "source": [
    "<h3> Rotation with degree $\\pi/4$ </h3>"
   ]
  },
  {
   "cell_type": "markdown",
   "metadata": {},
   "source": [
    "Its matrix form is similar to Hadamard operator:\n",
    "\n",
    "$$ R(\\pi/4) = \\mymatrix{rr}{\\cos(\\pi/4) & -\\sin(\\pi/4) \\\\ \\sin(\\pi/4) & \\cos(\\pi/4) }\n",
    "= \\mymatrix{rr}{ \\sqrttwo & -\\sqrttwo \\\\  \\sqrttwo & \\sqrttwo} $$."
   ]
  },
  {
   "cell_type": "markdown",
   "metadata": {},
   "source": [
    "<h3> Task 2 </h3>\n",
    "\n",
    "Start with state $ \\ket{0} $. \n",
    "\n",
    "Apply $ R(\\pi/4) $ 7 times, and draw each state on the unit circle."
   ]
  },
  {
   "cell_type": "code",
   "execution_count": 1,
   "metadata": {},
   "outputs": [
    {
     "data": {
      "image/png": "[encoded data removed]",
      "text/plain": [
       "<Figure size 360x360 with 1 Axes>"
      ]
     },
     "metadata": {
      "needs_background": "light"
     },
     "output_type": "display_data"
    }
   ],
   "source": [
    "%run qlatvia.py\n",
    "\n",
    "draw_qubit()\n",
    "\n",
    "[x,y]=[1,0]\n",
    "\n",
    "draw_quantum_state(x,y,\"v0\")\n",
    "\n",
    "sqrttwo = 2**0.5\n",
    "oversqrttwo = 1/sqrttwo\n",
    "\n",
    "R = [ [oversqrttwo, -1*oversqrttwo], [oversqrttwo,oversqrttwo] ]\n",
    "\n",
    "# function for rotation R\n",
    "def rotate(px,py):\n",
    "    newx = R[0][0]*px + R[0][1]*py\n",
    "    newy = R[1][0]*px + R[1][1]*py\n",
    "    return [newx,newy]\n",
    "\n",
    "# apply rotation R 7 times\n",
    "for i in range(1,8):\n",
    "    [x,y] = rotate(x,y)\n",
    "    draw_quantum_state(x,y,\"|v\"+str(i)+\">\")\n"
   ]
  },
  {
   "cell_type": "markdown",
   "metadata": {},
   "source": [
    "<h3> Rotation with degree $\\theta$ </h3>"
   ]
  },
  {
   "cell_type": "markdown",
   "metadata": {},
   "source": [
    "The matrix form of a rotation is as follows:\n",
    "\n",
    "$$ R(\\theta) = \\mymatrix{rr}{\\cos(\\theta) & -\\sin(\\theta) \\\\ \\sin(\\theta) & \\cos(\\theta) }, $$\n",
    "\n",
    "where $ \\theta $ is the angle of rotation (in counter-clockwise direction)."
   ]
  },
  {
   "cell_type": "markdown",
   "metadata": {},
   "source": [
    "<h3> Rotations with ry-gate </h3>\n",
    "\n",
    "The ry-gate is used for rotation in 2-dimensional real-valued plane.\n",
    "\n",
    "If our angle is $ \\theta $ radians, then we pass $ 2 \\theta $ radians as the parameter to ry-gate.\n",
    "\n",
    "Then ry-gate implements the rotation with angle $\\theta$. \n",
    "\n",
    "The default direction of a rotation by ry-gate is counterclockwise.\n",
    "\n",
    "    mycircuit.ry(angle_of_rotation,quantum_register)"
   ]
  },
  {
   "cell_type": "markdown",
   "metadata": {},
   "source": [
    "<h3> Example </h3>\n",
    "\n",
    "We implement the rotation with angle $ \\pi/4 $ in qiskit.\n",
    "\n",
    "We start with state $\\ket{0}$, and apply ry-gate 8 times. \n",
    "\n",
    "After each iteration, <b>we read the quantum state from the local simulator</b>, and then draw it."
   ]
  },
  {
   "cell_type": "code",
   "execution_count": 1,
   "metadata": {},
   "outputs": [
    {
     "name": "stdout",
     "output_type": "stream",
     "text": [
      "iteration 1 : the quantum state is [0.70710678+0.j 0.70710678+0.j]\n",
      "iteration 2 : the quantum state is [0.+0.j 1.+0.j]\n",
      "iteration 3 : the quantum state is [ 0.70710678+0.j -0.70710678+0.j]\n",
      "iteration 4 : the quantum state is [1.+0.j 0.+0.j]\n",
      "iteration 5 : the quantum state is [0.70710678+0.j 0.70710678+0.j]\n",
      "iteration 6 : the quantum state is [0.+0.j 1.+0.j]\n",
      "iteration 7 : the quantum state is [ 0.70710678+0.j -0.70710678+0.j]\n",
      "iteration 8 : the quantum state is [1.+0.j 0.+0.j]\n"
     ]
    },
    {
     "data": {
      "image/png": "[encoded data removed]",
      "text/plain": [
       "<Figure size 360x360 with 1 Axes>"
      ]
     },
     "metadata": {
      "needs_background": "light"
     },
     "output_type": "display_data"
    }
   ],
   "source": [
    "%run qlatvia.py\n",
    "\n",
    "draw_qubit()\n",
    "\n",
    "from qiskit import QuantumRegister, ClassicalRegister, QuantumCircuit, execute, Aer\n",
    "from math import pi\n",
    "\n",
    "# we define a quantum circuit with one qubit and one bit\n",
    "qreg1 =  QuantumRegister(1) # quantum register with a single qubit\n",
    "creg1 = ClassicalRegister(1) # classical register with a single bit\n",
    "mycircuit1 = QuantumCircuit(qreg1,creg1) # quantum circuit with quantum and classical registers\n",
    "\n",
    "rotation_angle = pi/4\n",
    "\n",
    "for i in range(1,9):\n",
    "    mycircuit1.ry(2*rotation_angle,qreg1[0]) \n",
    "    # mycircuit1.u3(2*rotation_angle,0,0,qreg1[0]) \n",
    "     # the following code is used to get the quantum state of the quantum register\n",
    "    job = execute(mycircuit1,Aer.get_backend('statevector_simulator'))\n",
    "    current_quantum_state=job.result().get_statevector(mycircuit1) \n",
    "    print(\"iteration\",i,\": the quantum state is\",current_quantum_state)\n",
    "    x_value = current_quantum_state[0].real # get the amplitude of |0>\n",
    "    y_value = current_quantum_state[1].real # get the amplitude of |1>\n",
    "    draw_quantum_state(x_value,y_value,\"|v\"+str(i)+\">\")"
   ]
  },
  {
   "cell_type": "markdown",
   "metadata": {},
   "source": [
    "<h3> Task 3 </h3>\n",
    "\n",
    "Repeat the same example 12 times for angle $ \\pi/6 $. \n",
    "\n",
    "Repeat the same example 16 times for angle $ 3\\pi/8 $. \n",
    "\n",
    "Repeat the same example 20 times for angle $ \\sqrt{2}\\pi $."
   ]
  },
  {
   "cell_type": "code",
   "execution_count": 2,
   "metadata": {},
   "outputs": [
    {
     "name": "stdout",
     "output_type": "stream",
     "text": [
      "iteration 1 : the quantum state is [0.8660254+0.j 0.5      +0.j]\n",
      "iteration 2 : the quantum state is [0.5      +0.j 0.8660254+0.j]\n",
      "iteration 3 : the quantum state is [0.+0.j 1.+0.j]\n",
      "iteration 4 : the quantum state is [ 0.5      +0.j -0.8660254+0.j]\n",
      "iteration 5 : the quantum state is [ 0.8660254+0.j -0.5      +0.j]\n",
      "iteration 6 : the quantum state is [1.+0.j 0.+0.j]\n",
      "iteration 7 : the quantum state is [0.8660254+0.j 0.5      +0.j]\n",
      "iteration 8 : the quantum state is [0.5      +0.j 0.8660254+0.j]\n"
     ]
    },
    {
     "data": {
      "image/png": "[encoded data removed]",
      "text/plain": [
       "<Figure size 360x360 with 1 Axes>"
      ]
     },
     "metadata": {
      "needs_background": "light"
     },
     "output_type": "display_data"
    }
   ],
   "source": [
    "%run qlatvia.py\n",
    "\n",
    "draw_qubit()\n",
    "\n",
    "from qiskit import QuantumRegister, ClassicalRegister, QuantumCircuit, execute, Aer\n",
    "from math import pi\n",
    "\n",
    "# we define a quantum circuit with one qubit and one bit\n",
    "qreg1 =  QuantumRegister(1) # quantum register with a single qubit\n",
    "creg1 = ClassicalRegister(1) # classical register with a single bit\n",
    "mycircuit1 = QuantumCircuit(qreg1,creg1) # quantum circuit with quantum and classical registers\n",
    "\n",
    "rotation_angle = pi/6\n",
    "\n",
    "for i in range(1,13):\n",
    "    mycircuit1.ry(2*rotation_angle,qreg1[0]) \n",
    "    # mycircuit1.u3(2*rotation_angle,0,0,qreg1[0]) \n",
    "     # the following code is used to get the quantum state of the quantum register\n",
    "    job = execute(mycircuit1,Aer.get_backend('statevector_simulator'))\n",
    "    current_quantum_state=job.result().get_statevector(mycircuit1) \n",
    "    print(\"iteration\",i,\": the quantum state is\",current_quantum_state)\n",
    "    x_value = current_quantum_state[0].real # get the amplitude of |0>\n",
    "    y_value = current_quantum_state[1].real # get the amplitude of |1>\n",
    "    draw_quantum_state(x_value,y_value,\"|v\"+str(i)+\">\")"
   ]
  },
  {
   "cell_type": "code",
   "execution_count": 8,
   "metadata": {},
   "outputs": [
    {
     "name": "stdout",
     "output_type": "stream",
     "text": [
      "iteration 1 : the quantum state is [0.38268343+0.j 0.92387953+0.j]\n",
      "iteration 2 : the quantum state is [ 0.70710678+0.j -0.70710678+0.j]\n",
      "iteration 3 : the quantum state is [0.92387953+0.j 0.38268343+0.j]\n",
      "iteration 4 : the quantum state is [0.+0.j 1.+0.j]\n",
      "iteration 5 : the quantum state is [ 0.92387953+0.j -0.38268343+0.j]\n",
      "iteration 6 : the quantum state is [0.70710678+0.j 0.70710678+0.j]\n",
      "iteration 7 : the quantum state is [ 0.38268343+0.j -0.92387953+0.j]\n",
      "iteration 8 : the quantum state is [1.+0.j 0.+0.j]\n",
      "iteration 9 : the quantum state is [0.38268343+0.j 0.92387953+0.j]\n",
      "iteration 10 : the quantum state is [ 0.70710678+0.j -0.70710678+0.j]\n",
      "iteration 11 : the quantum state is [0.92387953+0.j 0.38268343+0.j]\n",
      "iteration 12 : the quantum state is [0.+0.j 1.+0.j]\n",
      "iteration 13 : the quantum state is [ 0.92387953+0.j -0.38268343+0.j]\n",
      "iteration 14 : the quantum state is [0.70710678+0.j 0.70710678+0.j]\n",
      "iteration 15 : the quantum state is [ 0.38268343+0.j -0.92387953+0.j]\n",
      "iteration 16 : the quantum state is [1.+0.j 0.+0.j]\n",
      "iteration 17 : the quantum state is [0.38268343+0.j 0.92387953+0.j]\n",
      "iteration 18 : the quantum state is [ 0.70710678+0.j -0.70710678+0.j]\n",
      "iteration 19 : the quantum state is [0.92387953+0.j 0.38268343+0.j]\n",
      "iteration 20 : the quantum state is [0.+0.j 1.+0.j]\n"
     ]
    },
    {
     "data": {
      "image/png": "[encoded data removed]",
      "text/plain": [
       "<Figure size 360x360 with 1 Axes>"
      ]
     },
     "metadata": {
      "needs_background": "light"
     },
     "output_type": "display_data"
    }
   ],
   "source": [
    "%run qlatvia.py\n",
    "\n",
    "draw_qubit()\n",
    "\n",
    "from qiskit import QuantumRegister, ClassicalRegister, QuantumCircuit, execute, Aer\n",
    "from math import pi\n",
    "\n",
    "# we define a quantum circuit with one qubit and one bit\n",
    "qreg1 =  QuantumRegister(1) # quantum register with a single qubit\n",
    "creg1 = ClassicalRegister(1) # classical register with a single bit\n",
    "mycircuit1 = QuantumCircuit(qreg1,creg1) # quantum circuit with quantum and classical registers\n",
    "\n",
    "rotation_angle = 3*pi/8\n",
    "\n",
    "for i in range(1,21):\n",
    "    mycircuit1.ry(2*rotation_angle,qreg1[0]) \n",
    "    # mycircuit1.u3(2*rotation_angle,0,0,qreg1[0]) \n",
    "     # the following code is used to get the quantum state of the quantum register\n",
    "    job = execute(mycircuit1,Aer.get_backend('statevector_simulator'))\n",
    "    current_quantum_state=job.result().get_statevector(mycircuit1) \n",
    "    print(\"iteration\",i,\": the quantum state is\",current_quantum_state)\n",
    "    x_value = current_quantum_state[0].real # get the amplitude of |0>\n",
    "    y_value = current_quantum_state[1].real # get the amplitude of |1>\n",
    "    draw_quantum_state(x_value,y_value,\"|v\"+str(i)+\">\")"
   ]
  },
  {
   "cell_type": "code",
   "execution_count": 11,
   "metadata": {},
   "outputs": [
    {
     "name": "stdout",
     "output_type": "stream",
     "text": [
      "iteration 1 : the quantum state is [-0.26625534+0.j -0.96390253+0.j]\n",
      "iteration 2 : the quantum state is [ 0.85821619+0.j -0.5132884 +0.j]\n",
      "iteration 3 : the quantum state is [0.72326463+0.j 0.69057098+0.j]\n",
      "iteration 4 : the quantum state is [ 0.47307004+0.j -0.88102482+0.j]\n",
      "iteration 5 : the quantum state is [0.97517948+0.j 0.22141585+0.j]\n",
      "iteration 6 : the quantum state is [0.04622345+0.j 0.99893113+0.j]\n",
      "iteration 7 : the quantum state is [ 0.950565  +0.j -0.31052565+0.j]\n",
      "iteration 8 : the quantum state is [0.55240947+0.j 0.8335729 +0.j]\n",
      "iteration 9 : the quantum state is [ 0.65640106+0.j -0.75441212+0.j]\n",
      "iteration 10 : the quantum state is [0.90195005+0.j 0.43184038+0.j]\n",
      "iteration 11 : the quantum state is [ 0.17610302+0.j -0.98437174+0.j]\n",
      "iteration 12 : the quantum state is [ 0.99572679+0.j -0.09234809+0.j]\n",
      "iteration 13 : the quantum state is [0.35413213+0.j 0.9351954 +0.j]\n",
      "iteration 14 : the quantum state is [ 0.80714764+0.j -0.59034963+0.j]\n",
      "iteration 15 : the quantum state is [0.78394687+0.j 0.62082791+0.j]\n",
      "iteration 16 : the quantum state is [ 0.38968756+0.j -0.92094713+0.j]\n",
      "iteration 17 : the quantum state is [0.99145966+0.j 0.13041373+0.j]\n",
      "iteration 18 : the quantum state is [0.13827531+0.j 0.99039383+0.j]\n",
      "iteration 19 : the quantum state is [ 0.91782658+0.j -0.39698157+0.j]\n",
      "iteration 20 : the quantum state is [0.62702777+0.j 0.77899691+0.j]\n"
     ]
    },
    {
     "data": {
      "image/png": "[encoded data removed]",
      "text/plain": [
       "<Figure size 360x360 with 1 Axes>"
      ]
     },
     "metadata": {
      "needs_background": "light"
     },
     "output_type": "display_data"
    }
   ],
   "source": [
    "%run qlatvia.py\n",
    "\n",
    "draw_qubit()\n",
    "\n",
    "from qiskit import QuantumRegister, ClassicalRegister, QuantumCircuit, execute, Aer\n",
    "from math import pi, sqrt\n",
    "\n",
    "# we define a quantum circuit with one qubit and one bit\n",
    "qreg1 =  QuantumRegister(1) # quantum register with a single qubit\n",
    "creg1 = ClassicalRegister(1) # classical register with a single bit\n",
    "mycircuit1 = QuantumCircuit(qreg1,creg1) # quantum circuit with quantum and classical registers\n",
    "\n",
    "rotation_angle = sqrt(2)*pi\n",
    "\n",
    "for i in range(1,21):\n",
    "    mycircuit1.ry(2*rotation_angle,qreg1[0]) \n",
    "    # mycircuit1.u3(2*rotation_angle,0,0,qreg1[0]) \n",
    "     # the following code is used to get the quantum state of the quantum register\n",
    "    job = execute(mycircuit1,Aer.get_backend('statevector_simulator'))\n",
    "    current_quantum_state=job.result().get_statevector(mycircuit1) \n",
    "    print(\"iteration\",i,\": the quantum state is\",current_quantum_state)\n",
    "    x_value = current_quantum_state[0].real # get the amplitude of |0>\n",
    "    y_value = current_quantum_state[1].real # get the amplitude of |1>\n",
    "    draw_quantum_state(x_value,y_value,\"|v\"+str(i)+\">\")"
   ]
  },
  {
   "cell_type": "markdown",
   "metadata": {},
   "source": [
    "<h3> Task 4 </h3>\n",
    "\n",
    "Create three different quantum circuits where each circuit has a single qubit.\n",
    "\n",
    "Randomly pick an angle $ \\theta $.\n",
    "\n",
    "Rotate the qubit of the first circuit with angle $ \\theta $.\n",
    "\n",
    "Rotate the qubits of the second and third circuits with angles $\\theta_1$ and $ \\theta_2 $, respectively, providing that both states are different but orthogonal to the state of the qubit of the first circuit.\n",
    "\n",
    "Read the states of these three qubits from the local simulator, say $ \\ket{v_0} $, $ \\ket{v_1} $, and $ \\ket{v_2} $, respectively. \n",
    "\n",
    "Verify the following by drawing or by finding their dot products:\n",
    "<ol>\n",
    "    <li>$ \\ket{v_0} $ and $ \\ket{v_1} $ are orthogonal (i.e., their dot product is zero.)</li>\n",
    "    <li>$ \\ket{v_0} $ and $ \\ket{v_2} $ are orthogonal</li>\n",
    "    <li>$ \\ket{v_1} = -1\\ket{v_2} $ (i.e., their dot product is -1).</li>\n",
    "</ol>\n",
    "\n",
    "<i><b>The orthogonal states can be  distinguishable perfectly (with probability 1).</b> \n",
    "\n",
    "More specifically, after applying certain quantum operations to both states, we can observe each with distinguishable outcomes (i.e., 0 and 1 or vice versa) with probability 1.</i>\n",
    "\n",
    "Rotate all these three qubits with an angle $\\theta'$ such that we observe only state $ \\ket{0} $ in the first qubit and only state $ \\ket{1} $ in the second and third qubits (or vice versa).\n",
    "\n",
    "<i> Remark that, after picking $\\theta$, you determine $\\theta_1$, $ \\theta_2 $, and $ \\theta' $.</i>\n",
    "\n",
    "Measure each qubit.\n",
    "\n",
    "Execute your program 1000 times."
   ]
  },
  {
   "cell_type": "code",
   "execution_count": 12,
   "metadata": {},
   "outputs": [
    {
     "name": "stdout",
     "output_type": "stream",
     "text": [
      "the picked angle is 237.6 degrees and 4.1469023027385274 radians\n"
     ]
    },
    {
     "data": {
      "text/plain": [
       "<qiskit.circuit.instructionset.InstructionSet at 0x220b8847cf8>"
      ]
     },
     "execution_count": 12,
     "metadata": {},
     "output_type": "execute_result"
    }
   ],
   "source": [
    "from qiskit import QuantumRegister, ClassicalRegister, QuantumCircuit, execute, Aer\n",
    "from math import pi\n",
    "from random import randrange\n",
    "\n",
    "# first qubit \n",
    "qreg1 =  QuantumRegister(1) \n",
    "creg1 = ClassicalRegister(1) \n",
    "mycircuit1 = QuantumCircuit(qreg1,creg1)\n",
    "\n",
    "# second qubit \n",
    "qreg2 =  QuantumRegister(1) \n",
    "creg2 = ClassicalRegister(1) \n",
    "mycircuit2 = QuantumCircuit(qreg2,creg2)\n",
    "\n",
    "# third qubit \n",
    "qreg3 =  QuantumRegister(1) \n",
    "creg3 = ClassicalRegister(1) \n",
    "mycircuit3 = QuantumCircuit(qreg3,creg3)\n",
    "\n",
    "# randomly pick the angle of rotation\n",
    "r = randrange(100)\n",
    "theta = 2*pi*(r/100) # radians\n",
    "print(\"the picked angle is\",r*3.6,\"degrees and\",theta,\"radians\")\n",
    "\n",
    "\n",
    "# rotate the first qubit\n",
    "mycircuit1.ry(2*theta,qreg1[0])\n",
    "\n",
    "# the different angles orthogonal to theta\n",
    "theta1 = theta + pi/2\n",
    "theta2 = theta - pi/2\n",
    "\n",
    "# rotate the second and third qubits\n",
    "mycircuit2.ry(2*theta1,qreg2[0])\n",
    "mycircuit3.ry(2*theta2,qreg3[0])\n"
   ]
  },
  {
   "cell_type": "code",
   "execution_count": 13,
   "metadata": {},
   "outputs": [
    {
     "name": "stdout",
     "output_type": "stream",
     "text": [
      "the first qubit: -0.5358267949789963 -0.8443279255020153\n",
      "the second qubit: 0.8443279255020152 -0.5358267949789963\n",
      "the third qubit: -0.8443279255020153 0.5358267949789962\n"
     ]
    }
   ],
   "source": [
    "# read the quantum state of the first qubit\n",
    "job = execute(mycircuit1,Aer.get_backend('statevector_simulator'))\n",
    "current_quantum_state=job.result().get_statevector(mycircuit1) \n",
    "[x1,y1]=[current_quantum_state[0].real,current_quantum_state[1].real]\n",
    "print(\"the first qubit:\",x1,y1)\n",
    "\n",
    "# read the quantum state of the second qubit\n",
    "job = execute(mycircuit2,Aer.get_backend('statevector_simulator'))\n",
    "current_quantum_state=job.result().get_statevector(mycircuit2) \n",
    "[x2,y2]=[current_quantum_state[0].real,current_quantum_state[1].real]\n",
    "print(\"the second qubit:\",x2,y2)\n",
    "\n",
    "# read the quantum state of the third qubit\n",
    "job = execute(mycircuit3,Aer.get_backend('statevector_simulator'))\n",
    "current_quantum_state=job.result().get_statevector(mycircuit3) \n",
    "[x3,y3]=[current_quantum_state[0].real,current_quantum_state[1].real]\n",
    "print(\"the third qubit:\",x3,y3)"
   ]
  },
  {
   "cell_type": "code",
   "execution_count": 14,
   "metadata": {},
   "outputs": [
    {
     "data": {
      "image/png": "[encoded data removed]",
      "text/plain": [
       "<Figure size 360x360 with 1 Axes>"
      ]
     },
     "metadata": {
      "needs_background": "light"
     },
     "output_type": "display_data"
    }
   ],
   "source": [
    "%run qlatvia.py\n",
    "\n",
    "draw_qubit()\n",
    "\n",
    "draw_quantum_state(x1,y1,\"v0\")\n",
    "draw_quantum_state(x2,y2,\"v1\")\n",
    "draw_quantum_state(x3,y3,\"v2\")"
   ]
  },
  {
   "cell_type": "code",
   "execution_count": 15,
   "metadata": {},
   "outputs": [
    {
     "name": "stdout",
     "output_type": "stream",
     "text": [
      "the dot product of |v0> and |v1> is 5.551115123125783e-17\n",
      "the dot product of |v0> and |v2> is 1.1102230246251565e-16\n",
      "the dot product of |v1> and |v2> is -0.9999999999999998\n"
     ]
    }
   ],
   "source": [
    "print(\"the dot product of |v0> and |v1> is\",x1*x2+y1*y2)\n",
    "print(\"the dot product of |v0> and |v2> is\",x1*x3+y1*y3)\n",
    "print(\"the dot product of |v1> and |v2> is\",x2*x3+y2*y3)"
   ]
  },
  {
   "cell_type": "code",
   "execution_count": 16,
   "metadata": {},
   "outputs": [
    {
     "data": {
      "text/plain": [
       "<qiskit.circuit.instructionset.InstructionSet at 0x220b88f0eb8>"
      ]
     },
     "execution_count": 16,
     "metadata": {},
     "output_type": "execute_result"
    }
   ],
   "source": [
    "# make a full rotation by theta + theta_prime\n",
    "theta_prime = 2*pi - theta\n",
    "\n",
    "# rotate all qubits with theta_prime\n",
    "mycircuit1.ry(2*theta_prime,qreg1[0])\n",
    "mycircuit2.ry(2*theta_prime,qreg2[0])\n",
    "mycircuit3.ry(2*theta_prime,qreg3[0])\n",
    "\n",
    "# measure all qubits\n",
    "mycircuit1.measure(qreg1,creg1)\n",
    "mycircuit2.measure(qreg2,creg2)\n",
    "mycircuit3.measure(qreg3,creg3)"
   ]
  },
  {
   "cell_type": "code",
   "execution_count": 17,
   "metadata": {},
   "outputs": [
    {
     "data": {
      "text/html": [
       "<pre style=\"word-wrap: normal;white-space: pre;background: #fff0;line-height: 1.1;font-family: &quot;Courier New&quot;,Courier,monospace\">         ┌────────────┐┌────────────┐┌─┐\n",
       "q8_0: |0>┤ Ry(8.2938) ├┤ Ry(4.2726) ├┤M├\n",
       "         └────────────┘└────────────┘└╥┘\n",
       " c8_0: 0 ═════════════════════════════╩═\n",
       "                                        </pre>"
      ],
      "text/plain": [
       "<qiskit.visualization.text.TextDrawing at 0x220b8817208>"
      ]
     },
     "execution_count": 17,
     "metadata": {},
     "output_type": "execute_result"
    }
   ],
   "source": [
    "# draw the first circuit\n",
    "mycircuit1.draw()"
   ]
  },
  {
   "cell_type": "code",
   "execution_count": 18,
   "metadata": {},
   "outputs": [
    {
     "data": {
      "text/html": [
       "<pre style=\"word-wrap: normal;white-space: pre;background: #fff0;line-height: 1.1;font-family: &quot;Courier New&quot;,Courier,monospace\">         ┌────────────┐┌────────────┐┌─┐\n",
       "q9_0: |0>┤ Ry(11.435) ├┤ Ry(4.2726) ├┤M├\n",
       "         └────────────┘└────────────┘└╥┘\n",
       " c9_0: 0 ═════════════════════════════╩═\n",
       "                                        </pre>"
      ],
      "text/plain": [
       "<qiskit.visualization.text.TextDrawing at 0x220b88f0208>"
      ]
     },
     "execution_count": 18,
     "metadata": {},
     "output_type": "execute_result"
    }
   ],
   "source": [
    "# draw the second circuit\n",
    "mycircuit2.draw()"
   ]
  },
  {
   "cell_type": "code",
   "execution_count": 19,
   "metadata": {},
   "outputs": [
    {
     "data": {
      "text/html": [
       "<pre style=\"word-wrap: normal;white-space: pre;background: #fff0;line-height: 1.1;font-family: &quot;Courier New&quot;,Courier,monospace\">          ┌────────────┐┌────────────┐┌─┐\n",
       "q10_0: |0>┤ Ry(5.1522) ├┤ Ry(4.2726) ├┤M├\n",
       "          └────────────┘└────────────┘└╥┘\n",
       " c10_0: 0 ═════════════════════════════╩═\n",
       "                                         </pre>"
      ],
      "text/plain": [
       "<qiskit.visualization.text.TextDrawing at 0x220b88cff60>"
      ]
     },
     "execution_count": 19,
     "metadata": {},
     "output_type": "execute_result"
    }
   ],
   "source": [
    "# draw the third circuit\n",
    "mycircuit3.draw()"
   ]
  },
  {
   "cell_type": "code",
   "execution_count": 20,
   "metadata": {},
   "outputs": [
    {
     "name": "stdout",
     "output_type": "stream",
     "text": [
      "{'0': 1000}\n",
      "{'1': 1000}\n",
      "{'1': 1000}\n"
     ]
    }
   ],
   "source": [
    "# execute the first circuit\n",
    "job = execute(mycircuit1,Aer.get_backend('qasm_simulator'),shots=1000)\n",
    "counts = job.result().get_counts(mycircuit1)\n",
    "print(counts)\n",
    "\n",
    "# execute the second circuit\n",
    "job = execute(mycircuit2,Aer.get_backend('qasm_simulator'),shots=1000)\n",
    "counts = job.result().get_counts(mycircuit2)\n",
    "print(counts)\n",
    "\n",
    "# execute the third circuit\n",
    "job = execute(mycircuit3,Aer.get_backend('qasm_simulator'),shots=1000)\n",
    "counts = job.result().get_counts(mycircuit3)\n",
    "print(counts)"
   ]
  },
  {
   "cell_type": "markdown",
   "metadata": {},
   "source": [
    "<h3> Unitary backend</h3>\n",
    "\n",
    "Unitary_simulator gives a unitary representation of all gates in the circuit until this point.\n",
    "\n",
    "    job = execute(circuit, Aer.get_backend('unitary_simulator'))\n",
    "    current_unitary = job.result().get_unitary(circuit, decimals=3)\n",
    "    print(current_unitary)"
   ]
  },
  {
   "cell_type": "markdown",
   "metadata": {},
   "source": [
    "<h3> Task 5 </h3>\n",
    "\n",
    "Create a quantum circuit with one qubit and one bit.\n",
    "\n",
    "Rotate the qubit with angle $ \\pi/4 $ eight times.\n",
    "\n",
    "After each rotation, print the unitary operator representing the whole rotations until this point.\n",
    "\n",
    "Verify your results by printing the rotation matrix in python. "
   ]
  },
  {
   "cell_type": "code",
   "execution_count": 21,
   "metadata": {},
   "outputs": [
    {
     "name": "stdout",
     "output_type": "stream",
     "text": [
      "after 1 iteration(s):\n",
      "0.707 -0.707\n",
      "0.707 0.707\n",
      "calculated by python:\n",
      "0.707 -0.707\n",
      "0.707 0.707\n",
      "\n",
      "after 2 iteration(s):\n",
      "0.0 -1.0\n",
      "1.0 0.0\n",
      "calculated by python:\n",
      "0.0 -1.0\n",
      "1.0 0.0\n",
      "\n",
      "after 3 iteration(s):\n",
      "0.707 0.707\n",
      "-0.707 0.707\n",
      "calculated by python:\n",
      "-0.707 -0.707\n",
      "0.707 -0.707\n",
      "\n",
      "after 4 iteration(s):\n",
      "1.0 0.0\n",
      "0.0 1.0\n",
      "calculated by python:\n",
      "-1.0 -0.0\n",
      "0.0 -1.0\n",
      "\n",
      "after 5 iteration(s):\n",
      "0.707 -0.707\n",
      "0.707 0.707\n",
      "calculated by python:\n",
      "-0.707 0.707\n",
      "-0.707 -0.707\n",
      "\n",
      "after 6 iteration(s):\n",
      "0.0 -1.0\n",
      "1.0 0.0\n",
      "calculated by python:\n",
      "-0.0 1.0\n",
      "-1.0 -0.0\n",
      "\n",
      "after 7 iteration(s):\n",
      "0.707 0.707\n",
      "-0.707 0.707\n",
      "calculated by python:\n",
      "0.707 0.707\n",
      "-0.707 0.707\n",
      "\n",
      "after 8 iteration(s):\n",
      "1.0 0.0\n",
      "0.0 1.0\n",
      "calculated by python:\n",
      "1.0 0.0\n",
      "-0.0 1.0\n",
      "\n"
     ]
    }
   ],
   "source": [
    "from qiskit import QuantumRegister, ClassicalRegister, QuantumCircuit, execute, Aer\n",
    "from math import pi, cos, sin\n",
    "\n",
    "# first qubit \n",
    "qreg =  QuantumRegister(1) \n",
    "creg = ClassicalRegister(1) \n",
    "mycircuit = QuantumCircuit(qreg,creg)\n",
    "\n",
    "theta=pi/4\n",
    "\n",
    "for i in range(1,9):\n",
    "    total_theta = i*theta\n",
    "    mycircuit.ry(2*theta,qreg[0])\n",
    "    job = execute(mycircuit, Aer.get_backend('unitary_simulator'))\n",
    "    current_unitary = job.result().get_unitary(mycircuit, decimals=3)\n",
    "    print(\"after\",i,\"iteration(s):\")\n",
    "    print(current_unitary[0][0].real,current_unitary[0][1].real)\n",
    "    print(current_unitary[1][0].real,current_unitary[1][1].real)\n",
    "    print(\"calculated by python:\")\n",
    "    print(round(cos(total_theta),3),round(-sin(total_theta),3))\n",
    "    print(round(sin(total_theta),3),round(cos(total_theta),3))\n",
    "    print()"
   ]
  }
 ],
 "metadata": {
  "kernelspec": {
   "display_name": "Python 3",
   "language": "python",
   "name": "python3"
  },
  "language_info": {
   "codemirror_mode": {
    "name": "ipython",
    "version": 3
   },
   "file_extension": ".py",
   "mimetype": "text/x-python",
   "name": "python",
   "nbconvert_exporter": "python",
   "pygments_lexer": "ipython3",
   "version": "3.7.1"
  }
 },
 "nbformat": 4,
 "nbformat_minor": 2
}
